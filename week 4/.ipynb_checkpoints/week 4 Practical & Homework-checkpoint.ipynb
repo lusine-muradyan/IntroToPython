{
 "cells": [
  {
   "cell_type": "markdown",
   "metadata": {},
   "source": [
    "# practical 4"
   ]
  },
  {
   "cell_type": "code",
   "execution_count": 1,
   "metadata": {},
   "outputs": [],
   "source": [
    "#problem 1"
   ]
  },
  {
   "cell_type": "code",
   "execution_count": 8,
   "metadata": {},
   "outputs": [
    {
     "name": "stdout",
     "output_type": "stream",
     "text": [
      "n1: 15\n",
      "n2: 25\n",
      "The number  25 is the greatest\n"
     ]
    }
   ],
   "source": [
    "n1 = int(input(\"n1: \"))\n",
    "n2 = int(input(\"n2: \"))\n",
    "if n1 > 20:\n",
    "    print(\"The number \", n1, \"is the greatest\")\n",
    "elif n2 > 20:\n",
    "    print(\"The number \", n2, \"is the greatest\")"
   ]
  },
  {
   "cell_type": "code",
   "execution_count": null,
   "metadata": {},
   "outputs": [],
   "source": [
    "#problem 2"
   ]
  },
  {
   "cell_type": "code",
   "execution_count": 9,
   "metadata": {},
   "outputs": [
    {
     "name": "stdout",
     "output_type": "stream",
     "text": [
      "ractangle\n"
     ]
    }
   ],
   "source": [
    "a = 10\n",
    "b = 20\n",
    "if a == b:\n",
    "    print(\"square\")\n",
    "else:\n",
    "    print(\"ractangle\")"
   ]
  },
  {
   "cell_type": "code",
   "execution_count": null,
   "metadata": {},
   "outputs": [],
   "source": [
    "#problem 3"
   ]
  },
  {
   "cell_type": "code",
   "execution_count": 106,
   "metadata": {},
   "outputs": [
    {
     "name": "stdout",
     "output_type": "stream",
     "text": [
      "Please enter a different password\n"
     ]
    }
   ],
   "source": [
    "name = \"Britney\"\n",
    "age = 18\n",
    "password = \"brit123\"\n",
    "if name == \"Batman\":\n",
    "    print(\"Welcome Mr.Batman!\")\n",
    "else:\n",
    "    if age < 16:\n",
    "        print(\"Dear, \" + name + \"you are too young to register\")\n",
    "    if (\"*\" not in password) or (\"&\" not in password):\n",
    "        print(\"Please enter a different password\")\n",
    "    "
   ]
  },
  {
   "cell_type": "code",
   "execution_count": null,
   "metadata": {},
   "outputs": [],
   "source": [
    "# problem 4"
   ]
  },
  {
   "cell_type": "code",
   "execution_count": 18,
   "metadata": {},
   "outputs": [
    {
     "name": "stdout",
     "output_type": "stream",
     "text": [
      "weight: 34\n",
      "34\n"
     ]
    }
   ],
   "source": [
    "d = {\"name\": \"Armen\", \"age\": 15,\"grades\": [10, 8, 8, 4, 6, 7]}\n",
    "if \"weight\" not in d:\n",
    "    print(input(\"weight: \"))\n",
    "else:\n",
    "    print(d[\"weight\"])\n"
   ]
  },
  {
   "cell_type": "code",
   "execution_count": 87,
   "metadata": {},
   "outputs": [
    {
     "name": "stdout",
     "output_type": "stream",
     "text": [
      "1\n",
      "3\n",
      "5\n",
      "7\n",
      "9\n",
      "11\n",
      "13\n",
      "15\n",
      "17\n",
      "19\n",
      "21\n",
      "23\n",
      "25\n",
      "27\n",
      "29\n",
      "31\n",
      "33\n",
      "35\n",
      "37\n",
      "39\n",
      "41\n",
      "43\n",
      "45\n",
      "47\n",
      "49\n",
      "51\n",
      "53\n",
      "55\n",
      "57\n",
      "59\n",
      "61\n",
      "63\n",
      "65\n",
      "67\n",
      "69\n",
      "71\n",
      "73\n",
      "75\n",
      "77\n",
      "79\n",
      "81\n",
      "83\n",
      "85\n",
      "87\n",
      "89\n",
      "91\n",
      "93\n",
      "95\n",
      "97\n",
      "99\n"
     ]
    }
   ],
   "source": [
    "#problem 5\n",
    "count = 1\n",
    "for x in range (0, 100):\n",
    "    if x%2==1:\n",
    "        print(x)\n",
    " "
   ]
  },
  {
   "cell_type": "code",
   "execution_count": 49,
   "metadata": {},
   "outputs": [
    {
     "name": "stdout",
     "output_type": "stream",
     "text": [
      "c=  1\n",
      "c=  3\n",
      "c=  5\n",
      "c=  6\n"
     ]
    }
   ],
   "source": [
    "#problem 6\n",
    "c = 0\n",
    "while c<6:\n",
    "    c += 1\n",
    "    if (c == 2) or (c==4):\n",
    "        continue\n",
    "    print(\"c= \", c)\n"
   ]
  },
  {
   "cell_type": "code",
   "execution_count": 81,
   "metadata": {},
   "outputs": [
    {
     "name": "stdout",
     "output_type": "stream",
     "text": [
      "1\n",
      "2\n",
      "3\n",
      "4\n",
      "5\n",
      "6\n",
      "7\n",
      "8\n",
      "9\n",
      "10\n",
      "11\n",
      "12\n",
      "13\n",
      "14\n"
     ]
    }
   ],
   "source": [
    "#problem 7\n",
    "for x in range (1, 20):\n",
    "    if (x % 3 == 0) and (x % 5 == 0):\n",
    "        break\n",
    "    else:\n",
    "        print(x)"
   ]
  },
  {
   "cell_type": "code",
   "execution_count": 91,
   "metadata": {},
   "outputs": [
    {
     "name": "stdout",
     "output_type": "stream",
     "text": [
      "5\n",
      "7\n",
      "-7\n",
      "abc\n",
      "2\n",
      "4\n",
      "True\n"
     ]
    }
   ],
   "source": [
    "#problem 8\n",
    "list1 = [5, 7, -7, \"abc\", 2, 4, True, 3, 4, 6, 7, 7]\n",
    "for x in range(len(list1)):\n",
    "    \n",
    "    if list1[x] == 3:\n",
    "        \n",
    "        #print(list1[x])\n",
    "        break\n",
    "    print(list1[x])\n"
   ]
  },
  {
   "cell_type": "code",
   "execution_count": 7,
   "metadata": {},
   "outputs": [
    {
     "name": "stdout",
     "output_type": "stream",
     "text": [
      "2\n",
      "input number: 3\n",
      "input number: 4\n",
      "input number: 5\n",
      "That was a good guess!\n"
     ]
    }
   ],
   "source": [
    "#problem 9\n",
    "correct_num = 5\n",
    "guess = int(input())\n",
    "while guess != correct_num:\n",
    "    guess = int(input(\"input number: \"))\n",
    "    \n",
    "print(\"That was a good guess!\")\n",
    "   \n",
    "\n"
   ]
  },
  {
   "cell_type": "code",
   "execution_count": 63,
   "metadata": {},
   "outputs": [
    {
     "name": "stdout",
     "output_type": "stream",
     "text": [
      "[7, 25, 27]\n"
     ]
    }
   ],
   "source": [
    "#problem 10\n",
    "num = [7,8, 120, 25, 44, 20, 27]\n",
    "a = [x for x in num if x%2==1]\n",
    "print(a)"
   ]
  },
  {
   "cell_type": "code",
   "execution_count": 64,
   "metadata": {},
   "outputs": [],
   "source": [
    "#problem 11"
   ]
  },
  {
   "cell_type": "code",
   "execution_count": 67,
   "metadata": {},
   "outputs": [
    {
     "name": "stdout",
     "output_type": "stream",
     "text": [
      "list3:  [1, 4, 9, 16, 25, 36, 49, 64, 81, 100, 121, 144, 169, 196, 225, 256, 289, 324, 361, 400, 441, 484, 529, 576, 625, 676, 729, 784, 841, 900, 961, 1024, 1089, 1156, 1225, 1296, 1369, 1444, 1521, 1600, 1681, 1764, 1849, 1936, 2025, 2116, 2209, 2304, 2401]\n"
     ]
    }
   ],
   "source": [
    "list3 = [x**2 for x in range(1,50)]\n",
    "print(\"list3: \", list3)"
   ]
  },
  {
   "cell_type": "code",
   "execution_count": 68,
   "metadata": {},
   "outputs": [],
   "source": [
    "#problem 12"
   ]
  },
  {
   "cell_type": "code",
   "execution_count": 73,
   "metadata": {},
   "outputs": [
    {
     "name": "stdout",
     "output_type": "stream",
     "text": [
      "[30, 40, 50]\n"
     ]
    }
   ],
   "source": [
    "list1 = [10, 20, 30, 40, 50]\n",
    "\n",
    "list2 = [x for x in list1 if x > 20]\n",
    "print(list2)"
   ]
  },
  {
   "cell_type": "code",
   "execution_count": 76,
   "metadata": {},
   "outputs": [
    {
     "name": "stdout",
     "output_type": "stream",
     "text": [
      "one number: good\n",
      "['g', 'o', 'o', 'd']\n"
     ]
    }
   ],
   "source": [
    "#problem 13\n",
    "str1 = input(\"one number: \")\n",
    "l1 = [x for x in str1]\n",
    "print(l1)"
   ]
  },
  {
   "cell_type": "code",
   "execution_count": 77,
   "metadata": {},
   "outputs": [],
   "source": [
    "#problem 14"
   ]
  },
  {
   "cell_type": "code",
   "execution_count": 80,
   "metadata": {},
   "outputs": [
    {
     "name": "stdout",
     "output_type": "stream",
     "text": [
      "['aba', '1221']\n"
     ]
    }
   ],
   "source": [
    "list1 = [\"a\", \"abc\", \"xyz\", \"s\", \"aba\",\"1221\"]\n",
    "list2 = [x for x in list1 if len(x)>2 if x[0] == x[-1]]\n",
    "print(list2)"
   ]
  },
  {
   "cell_type": "markdown",
   "metadata": {},
   "source": [
    "# Homework week 4"
   ]
  },
  {
   "cell_type": "code",
   "execution_count": null,
   "metadata": {},
   "outputs": [],
   "source": [
    "#1"
   ]
  },
  {
   "cell_type": "code",
   "execution_count": 5,
   "metadata": {},
   "outputs": [
    {
     "name": "stdout",
     "output_type": "stream",
     "text": [
      "shoes = 2\n",
      "You don't get a discount\n"
     ]
    }
   ],
   "source": [
    "discount = 1000\n",
    "one_pair = 100\n",
    "n_shoes = int(input(\"shoes = \"))\n",
    "if n_shoes > 9:\n",
    "    print(\"You get a discount\")\n",
    "else:\n",
    "    print(\"You don't get a discount\")\n"
   ]
  },
  {
   "cell_type": "code",
   "execution_count": 6,
   "metadata": {},
   "outputs": [],
   "source": [
    "#2"
   ]
  },
  {
   "cell_type": "code",
   "execution_count": 63,
   "metadata": {},
   "outputs": [
    {
     "name": "stdout",
     "output_type": "stream",
     "text": [
      "7.166666666666667\n",
      "Good job\n"
     ]
    }
   ],
   "source": [
    "d = {\"name\": \"Armen\", \"age\": 15, \"grades\": [10, 8, 8,4, 6, 7] }\n",
    "import statistics\n",
    "grades = [10, 8, 8,4, 6, 7]\n",
    "x = statistics.mean(grades)\n",
    "print(x)\n",
    "if x > 7:\n",
    "    print(\"Good job\")\n",
    "else:\n",
    "    print(\"You need to work more\")"
   ]
  },
  {
   "cell_type": "code",
   "execution_count": 34,
   "metadata": {},
   "outputs": [],
   "source": [
    "#3"
   ]
  },
  {
   "cell_type": "code",
   "execution_count": 43,
   "metadata": {},
   "outputs": [
    {
     "data": {
      "text/plain": [
       "[1, 3, 5, 7, 9]"
      ]
     },
     "execution_count": 43,
     "metadata": {},
     "output_type": "execute_result"
    }
   ],
   "source": [
    "numbers = range(0, 11)\n",
    "odds = [x for x in numbers if x%2==1]\n",
    "list(odds)\n"
   ]
  },
  {
   "cell_type": "code",
   "execution_count": 69,
   "metadata": {},
   "outputs": [
    {
     "name": "stdout",
     "output_type": "stream",
     "text": [
      "n =  1\n",
      "n =  3\n",
      "n =  5\n",
      "n =  7\n",
      "n =  9\n"
     ]
    }
   ],
   "source": [
    "n = 0 \n",
    "while n<10:\n",
    "    n += 1\n",
    "    if (n%2==0):\n",
    "        continue\n",
    "    print(\"n = \", n)"
   ]
  },
  {
   "cell_type": "code",
   "execution_count": 46,
   "metadata": {},
   "outputs": [],
   "source": [
    "#4"
   ]
  },
  {
   "cell_type": "code",
   "execution_count": 108,
   "metadata": {},
   "outputs": [
    {
     "name": "stdout",
     "output_type": "stream",
     "text": [
      "set_1:  {1, 3, 5, 7, 9, 11, 13, 15}\n",
      "set_2:  {4, 6, 8, 11, 14, 16}\n",
      "x =  {11}\n"
     ]
    }
   ],
   "source": [
    "list1 = [1, 3, 5, 7, 9, 11, 13, 15] \n",
    "list2 = [4, 6,14, 11, 8, 16]\n",
    "set1 = set(list1)\n",
    "print(\"set_1: \", set_1)\n",
    "set2 = set(list2)\n",
    "print(\"set_2: \", set_2)\n",
    "print(\"x = \", set_1.intersection(set_2))\n",
    "\n",
    "for x in range(len(list1)):\n",
    "    if list1[x] == x:\n",
    "        \n",
    "        break\n",
    "        print(list1[x])"
   ]
  },
  {
   "cell_type": "code",
   "execution_count": 109,
   "metadata": {},
   "outputs": [],
   "source": [
    "#5"
   ]
  },
  {
   "cell_type": "code",
   "execution_count": 3,
   "metadata": {},
   "outputs": [
    {
     "name": "stdout",
     "output_type": "stream",
     "text": [
      "your desert: egg\n",
      "choose another one: cake\n",
      "choose another one: cookies\n",
      "Your desert will arrive in 10 minutes\n"
     ]
    }
   ],
   "source": [
    "menu = ['ice cream', 'chocolate', 'apple crisp', 'cookies']\n",
    "desert = input(\"your desert: \")\n",
    "while desert not in menu:\n",
    "    desert = input(\"choose another one: \")\n",
    "print(\"Your desert will arrive in 10 minutes\")"
   ]
  },
  {
   "cell_type": "code",
   "execution_count": 141,
   "metadata": {},
   "outputs": [],
   "source": [
    "#6"
   ]
  },
  {
   "cell_type": "code",
   "execution_count": 197,
   "metadata": {},
   "outputs": [
    {
     "name": "stdout",
     "output_type": "stream",
     "text": [
      "new_list:  [5, 6, 7, 8]\n"
     ]
    }
   ],
   "source": [
    "list2 = [1, 2, 3, 4, 5, 6, 7, 8]\n",
    "new_list = [x for x in list2 if x in range(5, 10)]\n",
    "print(\"new_list: \", new_list)"
   ]
  },
  {
   "cell_type": "code",
   "execution_count": 252,
   "metadata": {},
   "outputs": [
    {
     "name": "stdout",
     "output_type": "stream",
     "text": [
      "new_list:  3\n"
     ]
    }
   ],
   "source": [
    "list2 = [1, 2, 3, 4, 5, 6, 7, 8]\n",
    "new_list = [x for x in list2 if 5 < x < 10]\n",
    "print(\"new_list: \", len(new_list))"
   ]
  },
  {
   "cell_type": "code",
   "execution_count": 196,
   "metadata": {},
   "outputs": [],
   "source": [
    "#7"
   ]
  },
  {
   "cell_type": "code",
   "execution_count": 5,
   "metadata": {},
   "outputs": [
    {
     "name": "stdout",
     "output_type": "stream",
     "text": [
      "List 4: [[10, 20, 40], [40, 50, 60], [70, 80, 90]]\n",
      "List 5: [[10, 20, 100], [40, 50, 100], [70, 80, 100]]\n"
     ]
    }
   ],
   "source": [
    "list4 =[[10, 20, 40], [40, 50, 60], [70, 80, 90]]\n",
    "print('List 4:', list4)\n",
    "list5 = [x[:2]+[100] for x in list4]\n",
    "print('List 5:', list5)"
   ]
  },
  {
   "cell_type": "code",
   "execution_count": null,
   "metadata": {},
   "outputs": [],
   "source": []
  }
 ],
 "metadata": {
  "kernelspec": {
   "display_name": "Python 3",
   "language": "python",
   "name": "python3"
  },
  "language_info": {
   "codemirror_mode": {
    "name": "ipython",
    "version": 3
   },
   "file_extension": ".py",
   "mimetype": "text/x-python",
   "name": "python",
   "nbconvert_exporter": "python",
   "pygments_lexer": "ipython3",
   "version": "3.7.6"
  }
 },
 "nbformat": 4,
 "nbformat_minor": 4
}
