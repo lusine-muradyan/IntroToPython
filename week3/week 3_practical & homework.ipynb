{
 "cells": [
  {
   "cell_type": "markdown",
   "metadata": {},
   "source": [
    "# practical week 3"
   ]
  },
  {
   "cell_type": "code",
   "execution_count": 16,
   "metadata": {},
   "outputs": [
    {
     "name": "stdout",
     "output_type": "stream",
     "text": [
      "old_list1:  ['hallo', 1, 'True']\n",
      "added number1: 3\n",
      "added number2: 4\n",
      "new list:  ['hallo', 1, 'True', 3, 4]\n"
     ]
    }
   ],
   "source": [
    "#problem 1\n",
    "list1 = [\"hallo\", 1, \"True\"]\n",
    "print(\"old_list1: \", list1)\n",
    "n1 = int(input(\"added number1: \"))\n",
    "n2 = int(input(\"added number2: \"))\n",
    "list1.append(n1)\n",
    "list1.append(n2)\n",
    "print(\"new list: \", list1)"
   ]
  },
  {
   "cell_type": "code",
   "execution_count": 17,
   "metadata": {},
   "outputs": [
    {
     "name": "stdout",
     "output_type": "stream",
     "text": [
      "['hello', 1, True]\n",
      "['hello', 1, True, 3, 4]\n"
     ]
    }
   ],
   "source": [
    "#problem 2\n",
    "list1 = [\"hello\", 1, True]\n",
    "list2 = list1.copy()\n",
    "list2.extend([n1, n2])\n",
    "print(list1)\n",
    "print(list2)"
   ]
  },
  {
   "cell_type": "code",
   "execution_count": 79,
   "metadata": {},
   "outputs": [
    {
     "name": "stdout",
     "output_type": "stream",
     "text": [
      "list2 =  ['hello', 2, 4, 5, 'bye']\n",
      "number of 2s = 2\n"
     ]
    }
   ],
   "source": [
    "#problem 3\n",
    "list2 = [\"hello\", 2, 4, 5, \"bye\"]\n",
    "print(\"list2 = \", list2)\n",
    "x = input(\"number of 2s = \")"
   ]
  },
  {
   "cell_type": "code",
   "execution_count": 18,
   "metadata": {},
   "outputs": [
    {
     "name": "stdout",
     "output_type": "stream",
     "text": [
      "list4:  [1, 3, 6]\n",
      "added value: 7\n",
      "new_list4:  [3, 6, 7]\n"
     ]
    }
   ],
   "source": [
    "#problem 4\n",
    "list4 = [1, 3, 6]\n",
    "print(\"list4: \", list4)\n",
    "n = int(input(\"added value: \"))\n",
    "list4.append(n)\n",
    "list4.remove(1)\n",
    "print(\"new_list4: \", list4)\n",
    "        "
   ]
  },
  {
   "cell_type": "code",
   "execution_count": 19,
   "metadata": {},
   "outputs": [
    {
     "name": "stdout",
     "output_type": "stream",
     "text": [
      "old list:  ['hi', 2, 4, 6, 'go', 7, 8, 9]\n",
      "new list:  [2, 4, 6, 8, 9]\n"
     ]
    }
   ],
   "source": [
    "#problem 5\n",
    "list5 = [\"hi\", 2, 4, 6, \"go\", 7, 8, 9]\n",
    "print(\"old list: \", list5)\n",
    "del list5[5]\n",
    "del list5[4]\n",
    "del list5[0]\n",
    "print(\"new list: \", list5)"
   ]
  },
  {
   "cell_type": "code",
   "execution_count": 22,
   "metadata": {},
   "outputs": [
    {
     "name": "stdout",
     "output_type": "stream",
     "text": [
      "old list:  ['hi', 2, 4, 6, 'go', 7, 8, 9]\n",
      "new list:  [2, 4, 6, 8, 9]\n"
     ]
    }
   ],
   "source": [
    "#problem 6\n",
    "list5 = [\"hi\", 2, 4, 6, \"go\", 7, 8, 9]\n",
    "print(\"old list: \", list5)\n",
    "list6.pop(5)\n",
    "list6.pop(4)\n",
    "list6.pop(0)\n",
    "print(\"new list: \", list6)"
   ]
  },
  {
   "cell_type": "code",
   "execution_count": 23,
   "metadata": {},
   "outputs": [
    {
     "name": "stdout",
     "output_type": "stream",
     "text": [
      "old list:  [1, 2, 3, 4]\n",
      "new_list:  [1, 2, 3, ['hi', 'bye', 'go', 'rain']]\n"
     ]
    }
   ],
   "source": [
    "#problem 7\n",
    "l1 = [1, 2, 3, 4]\n",
    "print(\"old list: \", l1)\n",
    "l2 = [\"hi\", \"bye\", \"go\", \"rain\"]\n",
    "l1[-1] = l2\n",
    "print(\"new_list: \", l1)\n"
   ]
  },
  {
   "cell_type": "code",
   "execution_count": 129,
   "metadata": {},
   "outputs": [
    {
     "name": "stdout",
     "output_type": "stream",
     "text": [
      "added value: 8\n",
      "old set:  {1, 2, 3, 4, 5}\n",
      "new set:  {1, 2, 3, 4, 5, 8}\n"
     ]
    }
   ],
   "source": [
    "#problem 8\n",
    "set1 = {1, 2, 3, 4, 5}\n",
    "x = int(input(\"added value: \"))\n",
    "print(\"old set: \", set1)\n",
    "set1.add(x)\n",
    "print(\"new set: \", set1)"
   ]
  },
  {
   "cell_type": "code",
   "execution_count": 139,
   "metadata": {},
   "outputs": [
    {
     "name": "stdout",
     "output_type": "stream",
     "text": [
      "added value: 8\n",
      "old set:  {1, 2, 3, 4}\n",
      "added value:  {1, 2, 3, 4, 8}\n",
      "removed value:  {1, 2, 3, 4}\n"
     ]
    }
   ],
   "source": [
    "#problem 9\n",
    "set2 = {1, 2, 3, 4}\n",
    "x = int(input(\"added value: \"))\n",
    "print(\"old set: \", set2)\n",
    "set2.add(x)\n",
    "print(\"added value: \", set2)\n",
    "set2.remove(x)\n",
    "print(\"removed value: \", set2)\n",
    "\n"
   ]
  },
  {
   "cell_type": "code",
   "execution_count": 153,
   "metadata": {},
   "outputs": [
    {
     "name": "stdout",
     "output_type": "stream",
     "text": [
      "old set2:  {1, 2, 3, 4}\n",
      "new set2:  {1, 2, 3, 4}\n"
     ]
    }
   ],
   "source": [
    "#problem 10 \n",
    "set2 = {1, 2, 3, 4}\n",
    "print(\"old set2: \", set2)\n",
    "set2.discard(x)\n",
    "print(\"new set2: \", set2)"
   ]
  },
  {
   "cell_type": "code",
   "execution_count": 148,
   "metadata": {},
   "outputs": [
    {
     "data": {
      "text/plain": [
       "{1, 3, 4, 6, 8, 9, 12}"
      ]
     },
     "execution_count": 148,
     "metadata": {},
     "output_type": "execute_result"
    }
   ],
   "source": [
    "#problem 11\n",
    "set1 = {1, 3, 6, 9}\n",
    "set2 = {1, 4, 8, 12}\n",
    "set2.union(set1)\n"
   ]
  },
  {
   "cell_type": "code",
   "execution_count": 149,
   "metadata": {},
   "outputs": [
    {
     "data": {
      "text/plain": [
       "{1}"
      ]
     },
     "execution_count": 149,
     "metadata": {},
     "output_type": "execute_result"
    }
   ],
   "source": [
    "set2.intersection(set1)"
   ]
  },
  {
   "cell_type": "code",
   "execution_count": 25,
   "metadata": {},
   "outputs": [
    {
     "name": "stdout",
     "output_type": "stream",
     "text": [
      "new value: 3\n"
     ]
    },
    {
     "data": {
      "text/plain": [
       "True"
      ]
     },
     "execution_count": 25,
     "metadata": {},
     "output_type": "execute_result"
    }
   ],
   "source": [
    "#problem 12\n",
    "set3 = {1, 2, 3, 4, 5}\n",
    "z = int(input(\"new value: \"))\n",
    "(z > min (set3)) & (z < max (set3))\n"
   ]
  },
  {
   "cell_type": "code",
   "execution_count": 27,
   "metadata": {},
   "outputs": [
    {
     "data": {
      "text/plain": [
       "(5, 3)"
      ]
     },
     "execution_count": 27,
     "metadata": {},
     "output_type": "execute_result"
    }
   ],
   "source": [
    "#problem 13\n",
    "t1 = (1, 2, 3, 4, 5, 6)\n",
    "t1[4], t1[-4]\n"
   ]
  },
  {
   "cell_type": "code",
   "execution_count": 192,
   "metadata": {},
   "outputs": [
    {
     "name": "stdout",
     "output_type": "stream",
     "text": [
      "before change:  (2, 3, 4, 5, 6, 7, 8)\n",
      "after change:  (2, 3, 4, 5, 'hi', 7, 8)\n"
     ]
    }
   ],
   "source": [
    "#Problem 14\n",
    "t2 = (2, 3, 4, 5, 6, 7, 8)\n",
    "print(\"before change: \", t2)\n",
    "print(\"after change: \", t2[:4] + (\"hi\", ) + t2[5:])\n"
   ]
  },
  {
   "cell_type": "code",
   "execution_count": 33,
   "metadata": {},
   "outputs": [
    {
     "name": "stdout",
     "output_type": "stream",
     "text": [
      "old dict:  {1: 'hi1', 2: 'we2', 3: 'sun3'}\n",
      "key: old\n",
      "value: new\n"
     ]
    },
    {
     "data": {
      "text/plain": [
       "{1: 'hi1', 2: 'we2', 3: 'sun3', 'old': 'new'}"
      ]
     },
     "execution_count": 33,
     "metadata": {},
     "output_type": "execute_result"
    }
   ],
   "source": [
    "#problem 15\n",
    "dict1 = {1:'hi1', 2:'we2', 3:'sun3'}\n",
    "print(\"old dict: \", dict1)\n",
    "key = input(\"key: \")\n",
    "value = input(\"value: \")\n",
    "dict1[key] = value\n",
    "dict1\n",
    "\n"
   ]
  },
  {
   "cell_type": "code",
   "execution_count": 35,
   "metadata": {},
   "outputs": [
    {
     "name": "stdout",
     "output_type": "stream",
     "text": [
      "l1:  [(1, 'a'), (2, 'b'), (3, 'c')]\n",
      "d1:  {1: 'a', 2: 'b', 3: 'c'}\n"
     ]
    }
   ],
   "source": [
    "#problem 16\n",
    "l1 = [(1, \"a\"), (2,\"b\"), (3, \"c\")]\n",
    "d1 = dict(l1)\n",
    "print(\"l1: \", l1)\n",
    "print(\"d1: \", d1)"
   ]
  },
  {
   "cell_type": "markdown",
   "metadata": {},
   "source": [
    "# Homework week3"
   ]
  },
  {
   "cell_type": "code",
   "execution_count": 42,
   "metadata": {},
   "outputs": [
    {
     "data": {
      "text/plain": [
       "(7, -2)"
      ]
     },
     "execution_count": 42,
     "metadata": {},
     "output_type": "execute_result"
    }
   ],
   "source": [
    "#list \n",
    "# 1\n",
    "a = [1, 4, 5, 7, 8, -2, 0, -1]\n",
    "a[3], a[5]\n"
   ]
  },
  {
   "cell_type": "code",
   "execution_count": 249,
   "metadata": {},
   "outputs": [
    {
     "name": "stdout",
     "output_type": "stream",
     "text": [
      "a:  [-2, -1, 0, 1, 4, 5, 7, 8]\n",
      "a_sorted:  [8, 7, 5, 4, 1, 0, -1, -2]\n"
     ]
    }
   ],
   "source": [
    "# 3\n",
    "a.sort()\n",
    "print(\"a: \", a)\n",
    "a.reverse()\n",
    "print(\"a_sorted: \", a)"
   ]
  },
  {
   "cell_type": "code",
   "execution_count": 253,
   "metadata": {},
   "outputs": [
    {
     "data": {
      "text/plain": [
       "[7, 5]"
      ]
     },
     "execution_count": 253,
     "metadata": {},
     "output_type": "execute_result"
    }
   ],
   "source": [
    "# 4\n",
    "a[1:3] "
   ]
  },
  {
   "cell_type": "code",
   "execution_count": 254,
   "metadata": {},
   "outputs": [
    {
     "data": {
      "text/plain": [
       "[5, 4, 1, 0]"
      ]
     },
     "execution_count": 254,
     "metadata": {},
     "output_type": "execute_result"
    }
   ],
   "source": [
    "a[2:6]"
   ]
  },
  {
   "cell_type": "code",
   "execution_count": 43,
   "metadata": {},
   "outputs": [
    {
     "name": "stdout",
     "output_type": "stream",
     "text": [
      "a_sorted:  [8, 7, 1, 0, -1, -2]\n"
     ]
    }
   ],
   "source": [
    "# 5\n",
    "a = [8, 7, 5, 4, 1, 0, -1, -2]\n",
    "del a[3]\n",
    "del a[2]\n",
    "print(\"a_sorted: \", a)\n"
   ]
  },
  {
   "cell_type": "code",
   "execution_count": 271,
   "metadata": {},
   "outputs": [
    {
     "name": "stdout",
     "output_type": "stream",
     "text": [
      "b_sorted:  ['Broccoli', 'Carrot', 'Lemon', 'Orange', 'Potatoes', 'Sausages', 'grapes', 'tomatoes']\n"
     ]
    }
   ],
   "source": [
    "b = [\"grapes\", \"Potatoes\",\"tomatoes\", \"Orange\", \"Lemon\", \"Broccoli\", \"Carrot\", \"Sausages\"]\n",
    "b.sort()\n",
    "print(\"b_sorted: \", b)"
   ]
  },
  {
   "cell_type": "code",
   "execution_count": 51,
   "metadata": {},
   "outputs": [
    {
     "name": "stdout",
     "output_type": "stream",
     "text": [
      "x =  [1, 4, 5]\n",
      "y =  ['Orange', 'Lemon', 'Broccoli']\n",
      "c =  [1, 4, 5, 'Orange', 'Lemon', 'Broccoli']\n"
     ]
    }
   ],
   "source": [
    "a = [1, 4, 5, 7, 8, -2, 0, -1]\n",
    "b = [\"grapes\", \"Potatoes\",\"tomatoes\", \"Orange\", \"Lemon\", \"Broccoli\", \"Carrot\", \"Sausages\"]\n",
    "x = a[0:3]\n",
    "print(\"x = \", x)\n",
    "y = b[3:6]\n",
    "print(\"y = \", y)\n",
    "c = x + y\n",
    "print(\"c = \", c)"
   ]
  },
  {
   "cell_type": "code",
   "execution_count": 285,
   "metadata": {},
   "outputs": [
    {
     "name": "stdout",
     "output_type": "stream",
     "text": [
      "set_a:  {False, True, 'Chocolate', 8, 'Cookies', -5, -3}\n",
      "set_b:  {False, True, 'Chocolate', 'Jelly', 8, 10, 14, 'Milk'}\n"
     ]
    }
   ],
   "source": [
    "#set 1\n",
    "a1 = (\"Cookies\", \"Chocolate\",8, True, -3, -5, \"Chocolate\", 8, False, 8)\n",
    "b1 = (8, True, 10, 14,\"Chocolate\", \"Milk\", \"Jelly\", True, False, True)\n",
    "set_a = set(a1)\n",
    "set_b = set(b1)\n",
    "print(\"set_a: \", set_a)\n",
    "print(\"set_b: \", set_b)"
   ]
  },
  {
   "cell_type": "code",
   "execution_count": 288,
   "metadata": {},
   "outputs": [
    {
     "name": "stdout",
     "output_type": "stream",
     "text": [
      "union_ab:  {False, True, 'Chocolate', 'Jelly', 8, 10, 14, 'Cookies', -5, 'Milk', -3}\n"
     ]
    }
   ],
   "source": [
    "print(\"union_ab: \", set_a.union(set_b))\n"
   ]
  },
  {
   "cell_type": "code",
   "execution_count": 289,
   "metadata": {},
   "outputs": [
    {
     "name": "stdout",
     "output_type": "stream",
     "text": [
      "intersection_ab:  {False, True, 'Chocolate', 8}\n"
     ]
    }
   ],
   "source": [
    "print(\"intersection_ab: \", set_a.intersection(set_b))"
   ]
  },
  {
   "cell_type": "code",
   "execution_count": 55,
   "metadata": {},
   "outputs": [
    {
     "name": "stdout",
     "output_type": "stream",
     "text": [
      "{False, True, 8, 'Chocolate', 10, 'Cookies', 'Milk', 14, 'Jelly', -5, -3}\n",
      "{False, True, 8, 'Chocolate', 10, 'Cookies', 'Milk', 14, 'Oreo', 'Jelly', 'Kit-Kat', -5, -3}\n"
     ]
    }
   ],
   "source": [
    "union_ab = {False, True, 'Chocolate', 'Jelly', 8, 10, 14, 'Cookies', -5, 'Milk', -3}\n",
    "print(union_ab)\n",
    "union_ab.add('Kit-Kat')\n",
    "union_ab.add('Oreo')\n",
    "print(union_ab)\n"
   ]
  },
  {
   "cell_type": "code",
   "execution_count": 57,
   "metadata": {},
   "outputs": [
    {
     "name": "stdout",
     "output_type": "stream",
     "text": [
      "new_set:  {False, True, 8, 'Chocolate', 10, 'Cookies', 'Milk', 14, 'Oreo', 'Jelly', 'Kit-Kat', -5, -3}\n"
     ]
    }
   ],
   "source": [
    "union_ab = {False, True, 'Chocolate', 'Jelly', 8, 10, 'Oreo', 14, 'Cookies', 'Kit-Kat', -5, 'Milk', -3}\n",
    "intersection_ab = {False, True, 'Chocolate', 8}\n",
    "print(\"new_set: \", union_ab | intersection_ab)\n"
   ]
  },
  {
   "cell_type": "code",
   "execution_count": 325,
   "metadata": {},
   "outputs": [
    {
     "data": {
      "text/plain": [
       "True"
      ]
     },
     "execution_count": 325,
     "metadata": {},
     "output_type": "execute_result"
    }
   ],
   "source": [
    "new_set = {False, True, 'Chocolate', 'Jelly', 8, 10, 'Oreo', 14, 'Cookies', 'Kit-Kat', -5, 'Milk', -3}\n",
    "\"Chocolate\" in new_set"
   ]
  },
  {
   "cell_type": "code",
   "execution_count": 328,
   "metadata": {},
   "outputs": [
    {
     "name": "stdout",
     "output_type": "stream",
     "text": [
      "new_set:  {False, True, 'Chocolate', 'Jelly', 8, 10, 14, 'Cookies', 'Kit-Kat', -5, 'Milk', -3}\n"
     ]
    }
   ],
   "source": [
    "new_set.discard('Oreo')\n",
    "print(\"new_set: \", new_set)"
   ]
  },
  {
   "cell_type": "code",
   "execution_count": 58,
   "metadata": {},
   "outputs": [],
   "source": [
    "#Tuples"
   ]
  },
  {
   "cell_type": "code",
   "execution_count": 73,
   "metadata": {},
   "outputs": [
    {
     "name": "stdout",
     "output_type": "stream",
     "text": [
      "new_t1:  (1, 'a', -2, 'Anna')\n"
     ]
    }
   ],
   "source": [
    "t1 = (1, True, \"a\", -2, \"Anna\")\n",
    "print(\"new_t1: \", t1[:1] + t1[2:])\n"
   ]
  },
  {
   "cell_type": "code",
   "execution_count": 75,
   "metadata": {},
   "outputs": [
    {
     "name": "stdout",
     "output_type": "stream",
     "text": [
      "tupl_3:  (1, True, 1, 2, 3)\n"
     ]
    }
   ],
   "source": [
    "t1 = (1, True, \"a\", -2, \"Anna\")\n",
    "t2 = (1, 2, 3, 4, 5)\n",
    "t3 = t1[:2] + t2[:3]\n",
    "print(\"tupl_3: \", t3)"
   ]
  },
  {
   "cell_type": "code",
   "execution_count": 76,
   "metadata": {},
   "outputs": [
    {
     "name": "stdout",
     "output_type": "stream",
     "text": [
      "t3_index2:  1\n"
     ]
    }
   ],
   "source": [
    "print(\"t3_index2: \", t3[2])\n",
    "\n"
   ]
  },
  {
   "cell_type": "code",
   "execution_count": 370,
   "metadata": {},
   "outputs": [
    {
     "name": "stdout",
     "output_type": "stream",
     "text": [
      "3\n"
     ]
    }
   ],
   "source": [
    "t4 = [(1,3,5), (8,9), (\"Anna\", \"Bob\",\"Alice\")]\n",
    "print(t4[0] [1])\n"
   ]
  },
  {
   "cell_type": "code",
   "execution_count": 108,
   "metadata": {},
   "outputs": [],
   "source": [
    "#Dictionaries:      "
   ]
  },
  {
   "cell_type": "code",
   "execution_count": 96,
   "metadata": {},
   "outputs": [
    {
     "name": "stdout",
     "output_type": "stream",
     "text": [
      "key: \"candies\"\n",
      "value: ['mars','kinder', 'twix']\n"
     ]
    }
   ],
   "source": [
    "market = {\"dairy\":[\"yogurt\", \"cheese\"], \"fruits\": [\"banana\", \"apple\", \"orange\", \"lemon\", \"apple\", \"banana\",\"banana\"]}\n",
    "key = input(\"key: \")\n",
    "value = input(\"value: \")"
   ]
  },
  {
   "cell_type": "code",
   "execution_count": 97,
   "metadata": {},
   "outputs": [
    {
     "data": {
      "text/plain": [
       "('\"candies\"', \"['mars','kinder', 'twix']\")"
      ]
     },
     "execution_count": 97,
     "metadata": {},
     "output_type": "execute_result"
    }
   ],
   "source": [
    "key, value"
   ]
  },
  {
   "cell_type": "code",
   "execution_count": 101,
   "metadata": {},
   "outputs": [
    {
     "data": {
      "text/plain": [
       "{'dairy': ['yogurt', 'cheese'],\n",
       " 'fruits': ['banana', 'apple', 'orange', 'lemon', 'apple', 'banana', 'banana'],\n",
       " '\"candies\"': \"['mars','kinder', 'twix']\"}"
      ]
     },
     "execution_count": 101,
     "metadata": {},
     "output_type": "execute_result"
    }
   ],
   "source": [
    "market.update({key: value})\n",
    "market"
   ]
  },
  {
   "cell_type": "code",
   "execution_count": 102,
   "metadata": {},
   "outputs": [
    {
     "data": {
      "text/plain": [
       "['banana', 'apple', 'orange', 'lemon', 'apple', 'banana', 'banana']"
      ]
     },
     "execution_count": 102,
     "metadata": {},
     "output_type": "execute_result"
    }
   ],
   "source": [
    "market[\"fruits\"]"
   ]
  },
  {
   "cell_type": "code",
   "execution_count": 106,
   "metadata": {},
   "outputs": [
    {
     "name": "stdout",
     "output_type": "stream",
     "text": [
      "['apple', 'apple', 'banana', 'banana', 'banana', 'lemon', 'orange']\n",
      "{'orange', 'lemon', 'apple', 'banana'}\n"
     ]
    }
   ],
   "source": [
    "new_fr = ['apple', 'apple', 'banana', 'banana', 'banana', 'lemon', 'orange']\n",
    "new_fr.sort()\n",
    "print(new_fr)\n",
    "new_fr = set(['apple', 'apple', 'banana', 'banana', 'banana', 'lemon', 'orange'])\n",
    "print(new_fr)"
   ]
  },
  {
   "cell_type": "code",
   "execution_count": 107,
   "metadata": {},
   "outputs": [
    {
     "data": {
      "text/plain": [
       "{'dairy': ['yogurt', 'cheese'],\n",
       " 'fruits': ('orange', 'lemon', 'apple', 'banana'),\n",
       " '\"candies\"': \"['mars','kinder', 'twix']\"}"
      ]
     },
     "execution_count": 107,
     "metadata": {},
     "output_type": "execute_result"
    }
   ],
   "source": [
    "market[\"fruits\"] = 'orange', 'lemon', 'apple', 'banana'\n",
    "market"
   ]
  },
  {
   "cell_type": "code",
   "execution_count": null,
   "metadata": {},
   "outputs": [],
   "source": []
  }
 ],
 "metadata": {
  "kernelspec": {
   "display_name": "Python 3",
   "language": "python",
   "name": "python3"
  },
  "language_info": {
   "codemirror_mode": {
    "name": "ipython",
    "version": 3
   },
   "file_extension": ".py",
   "mimetype": "text/x-python",
   "name": "python",
   "nbconvert_exporter": "python",
   "pygments_lexer": "ipython3",
   "version": "3.7.6"
  }
 },
 "nbformat": 4,
 "nbformat_minor": 4
}
