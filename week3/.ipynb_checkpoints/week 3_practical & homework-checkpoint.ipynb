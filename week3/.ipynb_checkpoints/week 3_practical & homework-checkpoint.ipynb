{
 "cells": [
  {
   "cell_type": "markdown",
   "metadata": {},
   "source": [
    "# Practical week 3"
   ]
  },
  {
   "cell_type": "code",
   "execution_count": 55,
   "metadata": {},
   "outputs": [
    {
     "name": "stdout",
     "output_type": "stream",
     "text": [
      "4\n",
      "['hello', 1, True] \n",
      "\n",
      "['hello', 1, True, 4]\n"
     ]
    }
   ],
   "source": [
    "#1\n",
    "list1 = [\"hello\", 1, True]\n",
    "n = int(input())\n",
    "print(list1, '\\n')\n",
    "list1.append(n)\n",
    "print(list1)\n",
    "\n"
   ]
  },
  {
   "cell_type": "code",
   "execution_count": 74,
   "metadata": {},
   "outputs": [
    {
     "name": "stdout",
     "output_type": "stream",
     "text": [
      "['hello', 1, True, 2]\n"
     ]
    }
   ],
   "source": [
    "#2\n",
    "list1 = list1\n",
    "print(list1)"
   ]
  },
  {
   "cell_type": "code",
   "execution_count": 82,
   "metadata": {},
   "outputs": [
    {
     "name": "stdout",
     "output_type": "stream",
     "text": [
      "list2 =  [0, 'hi', 2, 100, 300, 2]\n",
      "Number of 2s = 2\n"
     ]
    },
    {
     "data": {
      "text/plain": [
       "2"
      ]
     },
     "execution_count": 82,
     "metadata": {},
     "output_type": "execute_result"
    }
   ],
   "source": [
    "#3\n",
    "list2 =  [0, 'hi', 2, 100, 300, 2]\n",
    "print(\"list2 = \", list2)\n",
    "n = input(\"Number of 2s = \")\n",
    "list2.count(2)\n"
   ]
  },
  {
   "cell_type": "code",
   "execution_count": 70,
   "metadata": {},
   "outputs": [
    {
     "name": "stdout",
     "output_type": "stream",
     "text": [
      "5\n"
     ]
    },
    {
     "data": {
      "text/plain": [
       "[3, 6]"
      ]
     },
     "execution_count": 70,
     "metadata": {},
     "output_type": "execute_result"
    }
   ],
   "source": [
    "#4\n",
    "list4 = [1, 3, 6]\n",
    "n = int(input())\n",
    "list4.remove(1)\n",
    "list4"
   ]
  },
  {
   "cell_type": "code",
   "execution_count": 58,
   "metadata": {},
   "outputs": [
    {
     "name": "stdout",
     "output_type": "stream",
     "text": [
      "old list:  [1, 2, 3, 4, 5, 6, 7, 8]\n",
      "new list:  [2, 3, 4, 5, 7]\n"
     ]
    }
   ],
   "source": [
    "#5\n",
    "list5 = [1, 2, 3, 4, 5, 6, 7, 8]\n",
    "print(\"old list: \", list5) \n",
    "del list5[0]\n",
    "del list5[4]\n",
    "del list5[5]\n",
    "print(\"new list: \", list5)\n",
    "\n"
   ]
  },
  {
   "cell_type": "code",
   "execution_count": 9,
   "metadata": {},
   "outputs": [
    {
     "data": {
      "text/plain": [
       "0"
      ]
     },
     "execution_count": 9,
     "metadata": {},
     "output_type": "execute_result"
    }
   ],
   "source": [
    "z = [1,2,3,4,5]\n",
    "z[0]\n",
    "z.index(1)"
   ]
  },
  {
   "cell_type": "code",
   "execution_count": 12,
   "metadata": {},
   "outputs": [
    {
     "data": {
      "text/plain": [
       "[1, 2, 3, 4, 5, 'we', 'we', 'we']"
      ]
     },
     "execution_count": 12,
     "metadata": {},
     "output_type": "execute_result"
    }
   ],
   "source": [
    "z.append('we')\n",
    "z"
   ]
  },
  {
   "cell_type": "code",
   "execution_count": 15,
   "metadata": {},
   "outputs": [
    {
     "name": "stdout",
     "output_type": "stream",
     "text": [
      "['Alice ', 'Ban ', 'Jack ']\n"
     ]
    }
   ],
   "source": [
    "x = [\"Jack \", \"Alice \", \"Ban \"]\n",
    "x\n",
    "x.sort()\n",
    "print(x)"
   ]
  },
  {
   "cell_type": "code",
   "execution_count": 16,
   "metadata": {},
   "outputs": [
    {
     "name": "stdout",
     "output_type": "stream",
     "text": [
      "['Alice ', 'Ban ']\n"
     ]
    }
   ],
   "source": [
    "x.pop()\n",
    "print(x)"
   ]
  },
  {
   "cell_type": "markdown",
   "metadata": {},
   "source": [
    "# practical week 3"
   ]
  },
  {
   "cell_type": "code",
   "execution_count": 42,
   "metadata": {},
   "outputs": [
    {
     "name": "stdout",
     "output_type": "stream",
     "text": [
      "old_list1:  ['hallo', 1, 'True']\n",
      "added number: 4\n",
      "new list:  ['hallo', 1, 'True', 4]\n"
     ]
    }
   ],
   "source": [
    "#problem 1\n",
    "list1 = [\"hallo\", 1, \"True\"]\n",
    "print(\"old_list1: \", list1)\n",
    "n = int(input(\"added number: \"))\n",
    "list1.append(n)\n",
    "print(\"new list: \", list1)"
   ]
  },
  {
   "cell_type": "code",
   "execution_count": 44,
   "metadata": {},
   "outputs": [
    {
     "name": "stdout",
     "output_type": "stream",
     "text": [
      "['hallo', 1, 'True', 4]\n"
     ]
    }
   ],
   "source": [
    "#problem 2\n",
    "new_list = list1\n",
    "print(new_list)"
   ]
  },
  {
   "cell_type": "code",
   "execution_count": 79,
   "metadata": {},
   "outputs": [
    {
     "name": "stdout",
     "output_type": "stream",
     "text": [
      "list2 =  ['hello', 2, 4, 5, 'bye']\n",
      "number of 2s = 2\n"
     ]
    }
   ],
   "source": [
    "#problem 3\n",
    "list2 = [\"hello\", 2, 4, 5, \"bye\"]\n",
    "print(\"list2 = \", list2)\n",
    "x = input(\"number of 2s = \")"
   ]
  },
  {
   "cell_type": "code",
   "execution_count": 93,
   "metadata": {},
   "outputs": [
    {
     "name": "stdout",
     "output_type": "stream",
     "text": [
      "old list:  [1, 2, 3, 4, 5]\n",
      "added value: 8\n",
      "list4:  [1, 2, 3, 4, 5, '8']\n",
      "new list:  [3, 4, 5, '8']\n"
     ]
    }
   ],
   "source": [
    "#problem 4\n",
    "list4 = [1, 2, 3, 4, 5]\n",
    "print(\"old list: \", list4)\n",
    "x = input(\"added value: \")\n",
    "list4.append(x)\n",
    "print(\"list4: \", list4)\n",
    "del list4[:2]\n",
    "print(\"new list: \", list4)\n",
    "        "
   ]
  },
  {
   "cell_type": "code",
   "execution_count": 268,
   "metadata": {},
   "outputs": [
    {
     "name": "stdout",
     "output_type": "stream",
     "text": [
      "old list:  ['hi', 2, 4, 6, 'go', 7, 8, 9]\n",
      "new list:  [2, 4, 6, 'go', 8]\n"
     ]
    }
   ],
   "source": [
    "#problem 5\n",
    "list5 = [\"hi\", 2, 4, 6, \"go\", 7, 8, 9]\n",
    "print(\"old list: \", list5)\n",
    "del list5[0]\n",
    "del list5[4]\n",
    "del list5[5]\n",
    "print(\"new list: \", list5)"
   ]
  },
  {
   "cell_type": "code",
   "execution_count": 110,
   "metadata": {},
   "outputs": [
    {
     "name": "stdout",
     "output_type": "stream",
     "text": [
      "old list:  ['hi', 2, 4, 6, 'go', 7, 8, 9]\n",
      "new list:  [2, 4, 6, 8, 9]\n"
     ]
    }
   ],
   "source": [
    "#problem 6\n",
    "list5 = [\"hi\", 2, 4, 6, \"go\", 7, 8, 9]\n",
    "print(\"old list: \", list5)\n",
    "list5.remove(\"hi\")\n",
    "list5.remove(\"go\")\n",
    "list5.remove(7)\n",
    "print(\"new list: \", list5)"
   ]
  },
  {
   "cell_type": "code",
   "execution_count": 125,
   "metadata": {},
   "outputs": [
    {
     "name": "stdout",
     "output_type": "stream",
     "text": [
      "old list:  [1, 2, 3, 4]\n",
      "new l1:  [1, 2, 3]\n",
      "new list:  [1, 2, 3, 'hi', 'bye', 'go', 'rain']\n"
     ]
    }
   ],
   "source": [
    "#problem 7\n",
    "l1 = [1, 2, 3, 4]\n",
    "print(\"old list: \", l1)\n",
    "l2 = [\"hi\", \"bye\", \"go\", \"rain\"]\n",
    "del l1[-1]\n",
    "print(\"new l1: \", l1)\n",
    "print(\"new list: \", l1 + l2)\n",
    "\n"
   ]
  },
  {
   "cell_type": "code",
   "execution_count": 129,
   "metadata": {},
   "outputs": [
    {
     "name": "stdout",
     "output_type": "stream",
     "text": [
      "added value: 8\n",
      "old set:  {1, 2, 3, 4, 5}\n",
      "new set:  {1, 2, 3, 4, 5, 8}\n"
     ]
    }
   ],
   "source": [
    "#problem 8\n",
    "set1 = {1, 2, 3, 4, 5}\n",
    "x = int(input(\"added value: \"))\n",
    "print(\"old set: \", set1)\n",
    "set1.add(x)\n",
    "print(\"new set: \", set1)"
   ]
  },
  {
   "cell_type": "code",
   "execution_count": 139,
   "metadata": {},
   "outputs": [
    {
     "name": "stdout",
     "output_type": "stream",
     "text": [
      "added value: 8\n",
      "old set:  {1, 2, 3, 4}\n",
      "added value:  {1, 2, 3, 4, 8}\n",
      "removed value:  {1, 2, 3, 4}\n"
     ]
    }
   ],
   "source": [
    "#problem 9\n",
    "set2 = {1, 2, 3, 4}\n",
    "x = int(input(\"added value: \"))\n",
    "print(\"old set: \", set2)\n",
    "set2.add(x)\n",
    "print(\"added value: \", set2)\n",
    "set2.remove(x)\n",
    "print(\"removed value: \", set2)\n",
    "\n"
   ]
  },
  {
   "cell_type": "code",
   "execution_count": 153,
   "metadata": {},
   "outputs": [
    {
     "name": "stdout",
     "output_type": "stream",
     "text": [
      "old set2:  {1, 2, 3, 4}\n",
      "new set2:  {1, 2, 3, 4}\n"
     ]
    }
   ],
   "source": [
    "#problem 10 \n",
    "set2 = {1, 2, 3, 4}\n",
    "print(\"old set2: \", set2)\n",
    "set2.discard(x)\n",
    "print(\"new set2: \", set2)"
   ]
  },
  {
   "cell_type": "code",
   "execution_count": 148,
   "metadata": {},
   "outputs": [
    {
     "data": {
      "text/plain": [
       "{1, 3, 4, 6, 8, 9, 12}"
      ]
     },
     "execution_count": 148,
     "metadata": {},
     "output_type": "execute_result"
    }
   ],
   "source": [
    "#problem 11\n",
    "set1 = {1, 3, 6, 9}\n",
    "set2 = {1, 4, 8, 12}\n",
    "set2.union(set1)\n"
   ]
  },
  {
   "cell_type": "code",
   "execution_count": 149,
   "metadata": {},
   "outputs": [
    {
     "data": {
      "text/plain": [
       "{1}"
      ]
     },
     "execution_count": 149,
     "metadata": {},
     "output_type": "execute_result"
    }
   ],
   "source": [
    "set2.intersection(set1)"
   ]
  },
  {
   "cell_type": "code",
   "execution_count": 165,
   "metadata": {},
   "outputs": [
    {
     "name": "stdout",
     "output_type": "stream",
     "text": [
      "new value: 8\n"
     ]
    },
    {
     "data": {
      "text/plain": [
       "False"
      ]
     },
     "execution_count": 165,
     "metadata": {},
     "output_type": "execute_result"
    }
   ],
   "source": [
    "#problem 12\n",
    "set3 = {1, 2, 3, 4, 5}\n",
    "z = int(input(\"new value: \"))\n",
    "z in set3\n"
   ]
  },
  {
   "cell_type": "code",
   "execution_count": 164,
   "metadata": {},
   "outputs": [
    {
     "data": {
      "text/plain": [
       "True"
      ]
     },
     "execution_count": 164,
     "metadata": {},
     "output_type": "execute_result"
    }
   ],
   "source": [
    "z not in set3"
   ]
  },
  {
   "cell_type": "code",
   "execution_count": 168,
   "metadata": {},
   "outputs": [
    {
     "data": {
      "text/plain": [
       "5"
      ]
     },
     "execution_count": 168,
     "metadata": {},
     "output_type": "execute_result"
    }
   ],
   "source": [
    "#problem 13\n",
    "t1 = (1, 2, 3, 4, 5, 6)\n",
    "t1[4]\n"
   ]
  },
  {
   "cell_type": "code",
   "execution_count": 169,
   "metadata": {},
   "outputs": [
    {
     "data": {
      "text/plain": [
       "3"
      ]
     },
     "execution_count": 169,
     "metadata": {},
     "output_type": "execute_result"
    }
   ],
   "source": [
    "t1[-4]"
   ]
  },
  {
   "cell_type": "code",
   "execution_count": 192,
   "metadata": {},
   "outputs": [
    {
     "name": "stdout",
     "output_type": "stream",
     "text": [
      "before change:  (2, 3, 4, 5, 6, 7, 8)\n",
      "after change:  (2, 3, 4, 5, 'hi', 7, 8)\n"
     ]
    }
   ],
   "source": [
    "#Problem 14\n",
    "t2 = (2, 3, 4, 5, 6, 7, 8)\n",
    "print(\"before change: \", t2)\n",
    "print(\"after change: \", t2[:4] + (\"hi\", ) + t2[5:])\n"
   ]
  },
  {
   "cell_type": "code",
   "execution_count": 232,
   "metadata": {},
   "outputs": [
    {
     "name": "stdout",
     "output_type": "stream",
     "text": [
      "old dict:  {1: 'hi1', 2: 'we2', 3: 'sun3'}\n",
      "added: 'key':'value'\n"
     ]
    },
    {
     "ename": "TypeError",
     "evalue": "unsupported operand type(s) for +: 'dict' and 'str'",
     "output_type": "error",
     "traceback": [
      "\u001b[1;31m---------------------------------------------------------------------------\u001b[0m",
      "\u001b[1;31mTypeError\u001b[0m                                 Traceback (most recent call last)",
      "\u001b[1;32m<ipython-input-232-2111c4cb5814>\u001b[0m in \u001b[0;36m<module>\u001b[1;34m\u001b[0m\n\u001b[0;32m      4\u001b[0m \u001b[0mprint\u001b[0m\u001b[1;33m(\u001b[0m\u001b[1;34m\"old dict: \"\u001b[0m\u001b[1;33m,\u001b[0m \u001b[0mdict1\u001b[0m\u001b[1;33m)\u001b[0m\u001b[1;33m\u001b[0m\u001b[1;33m\u001b[0m\u001b[0m\n\u001b[0;32m      5\u001b[0m \u001b[0mx\u001b[0m \u001b[1;33m=\u001b[0m \u001b[0minput\u001b[0m\u001b[1;33m(\u001b[0m\u001b[1;34m\"added: \"\u001b[0m\u001b[1;33m)\u001b[0m\u001b[1;33m\u001b[0m\u001b[1;33m\u001b[0m\u001b[0m\n\u001b[1;32m----> 6\u001b[1;33m \u001b[0mdict1\u001b[0m \u001b[1;33m+\u001b[0m \u001b[0mx\u001b[0m\u001b[1;33m\u001b[0m\u001b[1;33m\u001b[0m\u001b[0m\n\u001b[0m",
      "\u001b[1;31mTypeError\u001b[0m: unsupported operand type(s) for +: 'dict' and 'str'"
     ]
    }
   ],
   "source": [
    "#problem 15\n",
    "dict1 = {}\n",
    "dict1 = {1:'hi1', 2:'we2', 3:'sun3'}\n",
    "print(\"old dict: \", dict1)\n",
    "x = input(\"added: \")\n",
    "dict1 + x\n"
   ]
  },
  {
   "cell_type": "code",
   "execution_count": 230,
   "metadata": {},
   "outputs": [
    {
     "name": "stdout",
     "output_type": "stream",
     "text": [
      "l1:  [(1, 'a'), (2, 'b'), (3, 'c')]\n",
      "d1:  {1: 'a', 2: 'b', 3: 'c'}\n"
     ]
    }
   ],
   "source": [
    "#problem 16\n",
    "l1 = [(1, \"a\"), (2,\"b\"), (3, \"c\")]\n",
    "d1 = {}\n",
    "d1[1] = 'a'\n",
    "d1[2] = 'b'\n",
    "d1[3] = 'c'\n",
    "print(\"l1: \", l1)\n",
    "print(\"d1: \", d1)"
   ]
  },
  {
   "cell_type": "markdown",
   "metadata": {},
   "source": [
    "# Homework week3"
   ]
  },
  {
   "cell_type": "code",
   "execution_count": 235,
   "metadata": {},
   "outputs": [
    {
     "data": {
      "text/plain": [
       "7"
      ]
     },
     "execution_count": 235,
     "metadata": {},
     "output_type": "execute_result"
    }
   ],
   "source": [
    "#list \n",
    "# 1\n",
    "a = [1, 4, 5, 7, 8, -2, 0, -1]\n",
    "a[3]\n"
   ]
  },
  {
   "cell_type": "code",
   "execution_count": 236,
   "metadata": {},
   "outputs": [
    {
     "data": {
      "text/plain": [
       "-2"
      ]
     },
     "execution_count": 236,
     "metadata": {},
     "output_type": "execute_result"
    }
   ],
   "source": [
    "# 2\n",
    "a[5]"
   ]
  },
  {
   "cell_type": "code",
   "execution_count": 249,
   "metadata": {},
   "outputs": [
    {
     "name": "stdout",
     "output_type": "stream",
     "text": [
      "a:  [-2, -1, 0, 1, 4, 5, 7, 8]\n",
      "a_sorted:  [8, 7, 5, 4, 1, 0, -1, -2]\n"
     ]
    }
   ],
   "source": [
    "# 3\n",
    "a.sort()\n",
    "print(\"a: \", a)\n",
    "a.reverse()\n",
    "print(\"a_sorted: \", a)"
   ]
  },
  {
   "cell_type": "code",
   "execution_count": 253,
   "metadata": {},
   "outputs": [
    {
     "data": {
      "text/plain": [
       "[7, 5]"
      ]
     },
     "execution_count": 253,
     "metadata": {},
     "output_type": "execute_result"
    }
   ],
   "source": [
    "# 4\n",
    "a[1:3] "
   ]
  },
  {
   "cell_type": "code",
   "execution_count": 254,
   "metadata": {},
   "outputs": [
    {
     "data": {
      "text/plain": [
       "[5, 4, 1, 0]"
      ]
     },
     "execution_count": 254,
     "metadata": {},
     "output_type": "execute_result"
    }
   ],
   "source": [
    "a[2:6]"
   ]
  },
  {
   "cell_type": "code",
   "execution_count": 265,
   "metadata": {},
   "outputs": [
    {
     "data": {
      "text/plain": [
       "[8, 7, 4, 1, 0, -1, -2]"
      ]
     },
     "execution_count": 265,
     "metadata": {},
     "output_type": "execute_result"
    }
   ],
   "source": [
    "# 5\n",
    "a = [8, 7, 5, 4, 1, 0, -1, -2]\n",
    "del a[2]\n",
    "a\n"
   ]
  },
  {
   "cell_type": "code",
   "execution_count": 267,
   "metadata": {},
   "outputs": [
    {
     "data": {
      "text/plain": [
       "[8, 7, 5, 1, 0, -1, -2]"
      ]
     },
     "execution_count": 267,
     "metadata": {},
     "output_type": "execute_result"
    }
   ],
   "source": [
    "a = [8, 7, 5, 4, 1, 0, -1, -2]\n",
    "del a[3]\n",
    "a"
   ]
  },
  {
   "cell_type": "code",
   "execution_count": 269,
   "metadata": {},
   "outputs": [
    {
     "name": "stdout",
     "output_type": "stream",
     "text": [
      "a_sorted:  [8, 7, 5, 1, 0, -1, -2]\n"
     ]
    }
   ],
   "source": [
    "print(\"a_sorted: \", a)"
   ]
  },
  {
   "cell_type": "code",
   "execution_count": 271,
   "metadata": {},
   "outputs": [
    {
     "name": "stdout",
     "output_type": "stream",
     "text": [
      "b_sorted:  ['Broccoli', 'Carrot', 'Lemon', 'Orange', 'Potatoes', 'Sausages', 'grapes', 'tomatoes']\n"
     ]
    }
   ],
   "source": [
    "b = [\"grapes\", \"Potatoes\",\"tomatoes\", \"Orange\", \"Lemon\", \"Broccoli\", \"Carrot\", \"Sausages\"]\n",
    "b.sort()\n",
    "print(\"b_sorted: \", b)"
   ]
  },
  {
   "cell_type": "code",
   "execution_count": 277,
   "metadata": {},
   "outputs": [
    {
     "data": {
      "text/plain": [
       "[7, 5]"
      ]
     },
     "execution_count": 277,
     "metadata": {},
     "output_type": "execute_result"
    }
   ],
   "source": [
    "x = a[1:3]\n",
    "x\n"
   ]
  },
  {
   "cell_type": "code",
   "execution_count": 283,
   "metadata": {},
   "outputs": [
    {
     "data": {
      "text/plain": [
       "['Potatoes', 'Sausages']"
      ]
     },
     "execution_count": 283,
     "metadata": {},
     "output_type": "execute_result"
    }
   ],
   "source": [
    "y = b[4:6]\n",
    "y\n"
   ]
  },
  {
   "cell_type": "code",
   "execution_count": 282,
   "metadata": {},
   "outputs": [
    {
     "name": "stdout",
     "output_type": "stream",
     "text": [
      "c:  [7, 5, 'Potatoes', 'Sausages']\n"
     ]
    }
   ],
   "source": [
    "c = x + y\n",
    "print(\"c: \", c)"
   ]
  },
  {
   "cell_type": "code",
   "execution_count": 285,
   "metadata": {},
   "outputs": [
    {
     "name": "stdout",
     "output_type": "stream",
     "text": [
      "set_a:  {False, True, 'Chocolate', 8, 'Cookies', -5, -3}\n",
      "set_b:  {False, True, 'Chocolate', 'Jelly', 8, 10, 14, 'Milk'}\n"
     ]
    }
   ],
   "source": [
    "#set\n",
    "a1 = (\"Cookies\", \"Chocolate\",8, True, -3, -5, \"Chocolate\", 8, False, 8)\n",
    "b1 = (8, True, 10, 14,\"Chocolate\", \"Milk\", \"Jelly\", True, False, True)\n",
    "set_a = set(a1)\n",
    "set_b = set(b1)\n",
    "print(\"set_a: \", set_a)\n",
    "print(\"set_b: \", set_b)"
   ]
  },
  {
   "cell_type": "code",
   "execution_count": 288,
   "metadata": {},
   "outputs": [
    {
     "name": "stdout",
     "output_type": "stream",
     "text": [
      "union_ab:  {False, True, 'Chocolate', 'Jelly', 8, 10, 14, 'Cookies', -5, 'Milk', -3}\n"
     ]
    }
   ],
   "source": [
    "print(\"union_ab: \", set_a.union(set_b))\n"
   ]
  },
  {
   "cell_type": "code",
   "execution_count": 289,
   "metadata": {},
   "outputs": [
    {
     "name": "stdout",
     "output_type": "stream",
     "text": [
      "intersection_ab:  {False, True, 'Chocolate', 8}\n"
     ]
    }
   ],
   "source": [
    "print(\"intersection_ab: \", set_a.intersection(set_b))"
   ]
  },
  {
   "cell_type": "code",
   "execution_count": 306,
   "metadata": {},
   "outputs": [
    {
     "name": "stdout",
     "output_type": "stream",
     "text": [
      "{False, True, 'Chocolate', 'Jelly', 8, 10, 14, 'Cookies', -5, 'Milk', -3}\n",
      "{False, True, 'Chocolate', 'Jelly', 8, 10, 'Oreo', 14, 'Cookies', 'Kit-Kat', -5, 'Milk', -3}\n"
     ]
    }
   ],
   "source": [
    "union_ab = {False, True, 'Chocolate', 'Jelly', 8, 10, 14, 'Cookies', -5, 'Milk', -3}\n",
    "print(union_ab)\n",
    "union_ab.add('Kit-Kat')\n",
    "union_ab.add('Oreo')\n",
    "print(union_ab)\n"
   ]
  },
  {
   "cell_type": "code",
   "execution_count": 314,
   "metadata": {},
   "outputs": [
    {
     "name": "stdout",
     "output_type": "stream",
     "text": [
      "new_set:  {False, True, 'Chocolate', 'Jelly', 8, 10, 'Oreo', 14, 'Cookies', 'Kit-Kat', -5, 'Milk', -3}\n"
     ]
    }
   ],
   "source": [
    "union_ab = {False, True, 'Chocolate', 'Jelly', 8, 10, 'Oreo', 14, 'Cookies', 'Kit-Kat', -5, 'Milk', -3}\n",
    "intersection_ab = {False, True, 'Chocolate', 8}\n",
    "print(\"new_set: \", union_ab | intersection_ab)\n"
   ]
  },
  {
   "cell_type": "code",
   "execution_count": 325,
   "metadata": {},
   "outputs": [
    {
     "data": {
      "text/plain": [
       "True"
      ]
     },
     "execution_count": 325,
     "metadata": {},
     "output_type": "execute_result"
    }
   ],
   "source": [
    "new_set = {False, True, 'Chocolate', 'Jelly', 8, 10, 'Oreo', 14, 'Cookies', 'Kit-Kat', -5, 'Milk', -3}\n",
    "\"Chocolate\" in new_set"
   ]
  },
  {
   "cell_type": "code",
   "execution_count": 328,
   "metadata": {},
   "outputs": [
    {
     "name": "stdout",
     "output_type": "stream",
     "text": [
      "new_set:  {False, True, 'Chocolate', 'Jelly', 8, 10, 14, 'Cookies', 'Kit-Kat', -5, 'Milk', -3}\n"
     ]
    }
   ],
   "source": [
    "new_set.discard('Oreo')\n",
    "print(\"new_set: \", new_set)"
   ]
  },
  {
   "cell_type": "code",
   "execution_count": 347,
   "metadata": {},
   "outputs": [
    {
     "name": "stdout",
     "output_type": "stream",
     "text": [
      "new_tuple:  (1, 'a', -2, 'Anna')\n"
     ]
    }
   ],
   "source": [
    "#Tuples\n",
    "t1 = (1, True, \"a\", -2,\"Anna\")\n",
    "print(\"new_tuple: \", t1[:1] + t1[2:])"
   ]
  },
  {
   "cell_type": "code",
   "execution_count": 351,
   "metadata": {},
   "outputs": [
    {
     "name": "stdout",
     "output_type": "stream",
     "text": [
      "tupl_3:  (1, True, 1, 2, 3)\n"
     ]
    }
   ],
   "source": [
    "t2 = (1, 2, 3, 4, 5)\n",
    "t3 = t1 [0:2] + t2[0:3]\n",
    "print(\"tupl_3: \", t3)"
   ]
  },
  {
   "cell_type": "code",
   "execution_count": 358,
   "metadata": {},
   "outputs": [
    {
     "name": "stdout",
     "output_type": "stream",
     "text": [
      "t3_index2:  1\n"
     ]
    }
   ],
   "source": [
    "print(\"t3_index2: \", t3[2])\n",
    "\n"
   ]
  },
  {
   "cell_type": "code",
   "execution_count": 370,
   "metadata": {},
   "outputs": [
    {
     "name": "stdout",
     "output_type": "stream",
     "text": [
      "3\n"
     ]
    }
   ],
   "source": [
    "t4 = [(1,3,5), (8,9), (\"Anna\", \"Bob\",\"Alice\")]\n",
    "print(t4[0] [1])\n"
   ]
  },
  {
   "cell_type": "code",
   "execution_count": 375,
   "metadata": {},
   "outputs": [
    {
     "name": "stdout",
     "output_type": "stream",
     "text": [
      "new_market:  {'dairy': ['yogurt', 'cheese'], 'fruits': ['banana', 'apple', 'orange', 'lemon', 'apple', 'banana', 'banana']} {'candies': ['mars', 'kinder', 'twix']}\n"
     ]
    }
   ],
   "source": [
    "#Dictionaries:\n",
    "market = {\"dairy\":[\"yogurt\", \"cheese\"], \"fruits\": [\"banana\", \"apple\", \"orange\", \"lemon\", \"apple\", \"banana\",\"banana\"]}\n",
    "x = {\"candies\": ['mars','kinder', 'twix']}\n",
    "print(\"new_market: \", market, x)                        \n",
    "                        \n",
    "        "
   ]
  },
  {
   "cell_type": "code",
   "execution_count": 387,
   "metadata": {},
   "outputs": [
    {
     "name": "stdout",
     "output_type": "stream",
     "text": [
      "n_fruits:  ['banana', 'apple', 'orange', 'lemon', 'apple', 'banana', 'banana']\n"
     ]
    }
   ],
   "source": [
    "print(\"n_fruits: \", market.get(\"fruits\"))\n",
    "\n"
   ]
  },
  {
   "cell_type": "code",
   "execution_count": 411,
   "metadata": {},
   "outputs": [
    {
     "name": "stdout",
     "output_type": "stream",
     "text": [
      "['apple', 'apple', 'banana', 'banana', 'banana', 'lemon', 'orange']\n"
     ]
    }
   ],
   "source": [
    "n_fruits = ['banana', 'apple', 'orange', 'lemon', 'apple', 'banana', 'banana']\n",
    "n_fruits.sort()\n",
    "print(n_fruits)\n",
    "\n"
   ]
  },
  {
   "cell_type": "code",
   "execution_count": 55,
   "metadata": {},
   "outputs": [],
   "source": [
    "n_fruits = set(['banana', 'apple', 'orange', 'lemon', 'apple', 'banana', 'banana'])"
   ]
  },
  {
   "cell_type": "code",
   "execution_count": 18,
   "metadata": {},
   "outputs": [
    {
     "name": "stdout",
     "output_type": "stream",
     "text": [
      "['apple', 'apple', 'banana', 'banana', 'banana', 'lemon', 'orange']\n",
      "{'orange', 'apple', 'banana', 'lemon'}\n"
     ]
    }
   ],
   "source": [
    "new_fr = ['apple', 'apple', 'banana', 'banana', 'banana', 'lemon', 'orange']\n",
    "new_fr.sort()\n",
    "print(new_fr)\n",
    "new_fr = set(['apple', 'apple', 'banana', 'banana', 'banana', 'lemon', 'orange'])\n",
    "print(new_fr)"
   ]
  },
  {
   "cell_type": "code",
   "execution_count": null,
   "metadata": {},
   "outputs": [],
   "source": []
  }
 ],
 "metadata": {
  "kernelspec": {
   "display_name": "Python 3",
   "language": "python",
   "name": "python3"
  },
  "language_info": {
   "codemirror_mode": {
    "name": "ipython",
    "version": 3
   },
   "file_extension": ".py",
   "mimetype": "text/x-python",
   "name": "python",
   "nbconvert_exporter": "python",
   "pygments_lexer": "ipython3",
   "version": "3.7.6"
  }
 },
 "nbformat": 4,
 "nbformat_minor": 4
}
