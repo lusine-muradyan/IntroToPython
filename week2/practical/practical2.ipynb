{
 "cells": [
  {
   "cell_type": "code",
   "execution_count": 2,
   "metadata": {},
   "outputs": [
    {
     "name": "stdout",
     "output_type": "stream",
     "text": [
      "name: Lusine\n",
      "last_name: Muradyan\n"
     ]
    },
    {
     "data": {
      "text/plain": [
       "'Muradyan'"
      ]
     },
     "execution_count": 2,
     "metadata": {},
     "output_type": "execute_result"
    }
   ],
   "source": [
    "#Problem1\n",
    "input(\"name: \")\n",
    "input(\"last_name: \")"
   ]
  },
  {
   "cell_type": "code",
   "execution_count": null,
   "metadata": {},
   "outputs": [],
   "source": [
    "num1 = input(\"num1 \")"
   ]
  },
  {
   "cell_type": "code",
   "execution_count": 2,
   "metadata": {},
   "outputs": [
    {
     "name": "stdout",
     "output_type": "stream",
     "text": [
      "20\n",
      "10\n"
     ]
    }
   ],
   "source": [
    "num1 = input()\n",
    "num2 = input()"
   ]
  },
  {
   "cell_type": "code",
   "execution_count": 18,
   "metadata": {},
   "outputs": [
    {
     "name": "stdout",
     "output_type": "stream",
     "text": [
      "First number:  20\n",
      "Second number:  10\n",
      "Sum:  2010\n"
     ]
    }
   ],
   "source": [
    "print(\"First number: \", num1)\n",
    "print(\"Second number: \", num2)\n",
    "sum = num1 + num2\n",
    "print(\"Sum: \", int(sum))"
   ]
  },
  {
   "cell_type": "code",
   "execution_count": 27,
   "metadata": {},
   "outputs": [
    {
     "name": "stdout",
     "output_type": "stream",
     "text": [
      "age27\n",
      "Happy Birthday, you are already 27 years old\n"
     ]
    }
   ],
   "source": [
    "#problem3.py\n",
    "input(\"age\")\n",
    "print(\"Happy Birthday, you are already \" + age + \" years old\")"
   ]
  },
  {
   "cell_type": "code",
   "execution_count": 28,
   "metadata": {},
   "outputs": [
    {
     "name": "stdout",
     "output_type": "stream",
     "text": [
      "A sAmpLe stRING\n"
     ]
    }
   ],
   "source": [
    "#problem4.py\n",
    "text = input()"
   ]
  },
  {
   "cell_type": "code",
   "execution_count": 34,
   "metadata": {},
   "outputs": [
    {
     "name": "stdout",
     "output_type": "stream",
     "text": [
      "The given string: A sAmpLe stRING\n",
      "All lowercase: a sample string\n",
      "All uppercase: A SAMPLE STRING\n"
     ]
    }
   ],
   "source": [
    "print(\"The given string: \" + text)\n",
    "print(\"All lowercase: \" + text.lower())\n",
    "print(\"All uppercase: \" + text.upper())\n"
   ]
  },
  {
   "cell_type": "code",
   "execution_count": 40,
   "metadata": {},
   "outputs": [
    {
     "name": "stdout",
     "output_type": "stream",
     "text": [
      "The given text: abbbbbaaaaaaaeaa\n",
      "# of a: \n"
     ]
    }
   ],
   "source": [
    "#problem5.py\n",
    "text1 = input(\"The given text: \")"
   ]
  },
  {
   "cell_type": "code",
   "execution_count": 55,
   "metadata": {},
   "outputs": [
    {
     "name": "stdout",
     "output_type": "stream",
     "text": [
      "The given text: abbbbbaaaaaaaeaa\n",
      "# of a:  10\n",
      "# of b:  5\n",
      "# of c:  0\n",
      "# of d:  0\n",
      "# of e:  1\n"
     ]
    }
   ],
   "source": [
    "#problem5.py\n",
    "text1 = input(\"The given text: \")\n",
    "print(\"# of a: \", text1.count(\"a\"))\n",
    "print(\"# of b: \", text1.count(\"b\"))\n",
    "print(\"# of c: \", text1.count(\"c\"))\n",
    "print(\"# of d: \", text1.count(\"d\"))\n",
    "print(\"# of e: \", text1.count(\"e\"))"
   ]
  },
  {
   "cell_type": "code",
   "execution_count": 62,
   "metadata": {},
   "outputs": [
    {
     "name": "stdout",
     "output_type": "stream",
     "text": [
      "How are you John? Lusine\n",
      "How are you Lusine?\n"
     ]
    }
   ],
   "source": [
    "#problem6.py\n",
    "str1 = \"How are you John?\"\n",
    "name = \"Lusine\"\n",
    "str2 = \"How are you name?\"\n",
    "print(str1, name )\n",
    "print(str1[:-5] + name + \"?\")\n"
   ]
  },
  {
   "cell_type": "code",
   "execution_count": 68,
   "metadata": {},
   "outputs": [
    {
     "name": "stdout",
     "output_type": "stream",
     "text": [
      "Hi, where are you from?\n",
      "I'm from Armenia \n",
      "How long have you lived here? \n",
      "For 10 years\n"
     ]
    }
   ],
   "source": [
    "#problem7.py\n",
    "country = \"Armenia\"\n",
    "year = 10\n",
    "print(\"\"\"Hi, where are you from?\n",
    "I'm from %s \n",
    "How long have you lived here? \n",
    "For %d years\"\"\" % (country, year))\n"
   ]
  },
  {
   "cell_type": "code",
   "execution_count": 73,
   "metadata": {},
   "outputs": [
    {
     "name": "stdout",
     "output_type": "stream",
     "text": [
      "The given text: goingtoschool\n",
      "start_index:  ingtoschool\n",
      "end_index:  goingt\n",
      "Output string:  ingt\n"
     ]
    }
   ],
   "source": [
    "#problem8.py\n",
    "text = input(\"The given text: \")\n",
    "print(\"start_index: \", text[2:]) \n",
    "print(\"end_index: \", text[:6])\n",
    "print(\"Output string: \", text[2:6])"
   ]
  },
  {
   "cell_type": "code",
   "execution_count": 90,
   "metadata": {},
   "outputs": [
    {
     "name": "stdout",
     "output_type": "stream",
     "text": [
      "Date:  2020-03-21 1584782531.4226966\n",
      "Year:  2020\n",
      "Month:  3\n",
      "Day of the week:  5\n",
      "<class 'datetime.timedelta'>\n",
      "Subtract 5 days from the current date 2020-03-14\n"
     ]
    }
   ],
   "source": [
    "#problem9.py\n",
    "import datetime\n",
    "import time\n",
    "import calendar\n",
    "today = datetime.date.today()\n",
    "print(\"Date: \", today, time.time())\n",
    "print(\"Year: \", today.year)\n",
    "print(\"Month: \", today.month)\n",
    "print('Day of the week: ', today.weekday())\n",
    "tdelta = datetime.timedelta(days = 7)\n",
    "print(type(tdelta))\n",
    "print(\"Subtract 5 days from the current date\", today - tdelta)\n"
   ]
  },
  {
   "cell_type": "code",
   "execution_count": null,
   "metadata": {},
   "outputs": [],
   "source": []
  }
 ],
 "metadata": {
  "kernelspec": {
   "display_name": "Python 3",
   "language": "python",
   "name": "python3"
  },
  "language_info": {
   "codemirror_mode": {
    "name": "ipython",
    "version": 3
   },
   "file_extension": ".py",
   "mimetype": "text/x-python",
   "name": "python",
   "nbconvert_exporter": "python",
   "pygments_lexer": "ipython3",
   "version": "3.7.6"
  }
 },
 "nbformat": 4,
 "nbformat_minor": 4
}
