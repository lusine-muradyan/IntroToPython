{
 "cells": [
  {
   "cell_type": "markdown",
   "metadata": {},
   "source": [
    "# Practical week2"
   ]
  },
  {
   "cell_type": "code",
   "execution_count": 6,
   "metadata": {
    "scrolled": true
   },
   "outputs": [
    {
     "name": "stdout",
     "output_type": "stream",
     "text": [
      "name: Lusine\n",
      "Last Name: Muradyan\n"
     ]
    }
   ],
   "source": [
    "#problem1.py\n",
    "name = input(\"name: \")\n",
    "lst_name = input(\"Last Name: \")\n"
   ]
  },
  {
   "cell_type": "code",
   "execution_count": 5,
   "metadata": {},
   "outputs": [
    {
     "name": "stdout",
     "output_type": "stream",
     "text": [
      "First number: 10\n",
      "Second number: 20\n",
      "Sum:  30\n"
     ]
    }
   ],
   "source": [
    "#problem 2\n",
    "num1 = int(input(\"First number: \"))\n",
    "num2 = int(input(\"Second number: \"))\n",
    "print(\"Sum: \", num1 + num2)"
   ]
  },
  {
   "cell_type": "code",
   "execution_count": 4,
   "metadata": {},
   "outputs": [
    {
     "name": "stdout",
     "output_type": "stream",
     "text": [
      "age: 27\n",
      "Happy Birthday, you are already 27 years old!\n"
     ]
    }
   ],
   "source": [
    "#problem3.py\n",
    "age = input(\"age: \")\n",
    "print(\"Happy Birthday, you are already\", age, \"years old!\")"
   ]
  },
  {
   "cell_type": "code",
   "execution_count": 28,
   "metadata": {},
   "outputs": [
    {
     "name": "stdout",
     "output_type": "stream",
     "text": [
      "A sAmpLe stRING\n"
     ]
    }
   ],
   "source": [
    "#problem4.py\n",
    "text = input()"
   ]
  },
  {
   "cell_type": "code",
   "execution_count": 34,
   "metadata": {},
   "outputs": [
    {
     "name": "stdout",
     "output_type": "stream",
     "text": [
      "The given string: A sAmpLe stRING\n",
      "All lowercase: a sample string\n",
      "All uppercase: A SAMPLE STRING\n"
     ]
    }
   ],
   "source": [
    "test = input(\"The given string: \")\n",
    "print(\"All lowercase: \", test.lower())\n",
    "print(\"All uppercase: \", test.upper())\n"
   ]
  },
  {
   "cell_type": "code",
   "execution_count": 40,
   "metadata": {},
   "outputs": [
    {
     "name": "stdout",
     "output_type": "stream",
     "text": [
      "The given text: abbbbbaaaaaaaeaa\n",
      "# of a: \n"
     ]
    }
   ],
   "source": [
    "#problem5.py\n",
    "text1 = input(\"The given text: \")"
   ]
  },
  {
   "cell_type": "code",
   "execution_count": 55,
   "metadata": {},
   "outputs": [
    {
     "name": "stdout",
     "output_type": "stream",
     "text": [
      "The given text: abbbbbaaaaaaaeaa\n",
      "# of a:  10\n",
      "# of b:  5\n",
      "# of c:  0\n",
      "# of d:  0\n",
      "# of e:  1\n"
     ]
    }
   ],
   "source": [
    "#problem5.py\n",
    "text1 = input(\"The given text: \")\n",
    "print(\"# of a: \", text1.count(\"a\"))\n",
    "print(\"# of b: \", text1.count(\"b\"))\n",
    "print(\"# of c: \", text1.count(\"c\"))\n",
    "print(\"# of d: \", text1.count(\"d\"))\n",
    "print(\"# of e: \", text1.count(\"e\"))"
   ]
  },
  {
   "cell_type": "code",
   "execution_count": 3,
   "metadata": {},
   "outputs": [
    {
     "name": "stdout",
     "output_type": "stream",
     "text": [
      "How are you Lusine?\n",
      "How are you Lusine?\n"
     ]
    }
   ],
   "source": [
    "str1 = (\"How are you John?\")\n",
    "name = (\"Lusine\")\n",
    "str2 = (str1[:-5] + name + \"?\")\n",
    "print(str2)\n",
    "print(str1.replace(\"John\", \"Lusine\"))"
   ]
  },
  {
   "cell_type": "code",
   "execution_count": 68,
   "metadata": {},
   "outputs": [
    {
     "name": "stdout",
     "output_type": "stream",
     "text": [
      "Hi, where are you from?\n",
      "I'm from Armenia \n",
      "How long have you lived here? \n",
      "For 10 years\n"
     ]
    }
   ],
   "source": [
    "#problem7.py\n",
    "country = \"Armenia\"\n",
    "year = 10\n",
    "print(\"\"\"Hi, where are you from?\n",
    "I'm from %s \n",
    "How long have you lived here? \n",
    "For %d years\"\"\" % (country, year))\n"
   ]
  },
  {
   "cell_type": "code",
   "execution_count": 73,
   "metadata": {},
   "outputs": [
    {
     "name": "stdout",
     "output_type": "stream",
     "text": [
      "The given text: goingtoschool\n",
      "start_index:  ingtoschool\n",
      "end_index:  goingt\n",
      "Output string:  ingt\n"
     ]
    }
   ],
   "source": [
    "#problem8.py\n",
    "text = input(\"The given text: \")\n",
    "print(\"start_index: \", text[2:]) \n",
    "print(\"end_index: \", text[:6])\n",
    "print(\"Output string: \", text[2:6])"
   ]
  },
  {
   "cell_type": "code",
   "execution_count": 2,
   "metadata": {},
   "outputs": [
    {
     "name": "stdout",
     "output_type": "stream",
     "text": [
      "Date:  2020-03-26 12:41:45.790677\n",
      "year:  2020\n",
      "month:  3\n",
      "current day: 3\n",
      "today + 5 days:  2020-04-02 12:41:45.790677\n",
      "today - 5 days:  2020-03-19 12:41:45.790677\n"
     ]
    }
   ],
   "source": [
    "#problem9.py\n",
    "import datetime\n",
    "dt = datetime.datetime.today()\n",
    "print(\"Date: \", dt)\n",
    "print(\"year: \", dt.year)\n",
    "print(\"month: \", dt.month)\n",
    "print(\"current day:\", dt.weekday())\n",
    "tdelta = datetime.timedelta(days = 7)\n",
    "print(\"today + 5 days: \", dt + tdelta)\n",
    "print(\"today - 5 days: \", dt - tdelta)"
   ]
  },
  {
   "cell_type": "markdown",
   "metadata": {},
   "source": [
    "# HOMEWORK week 2"
   ]
  },
  {
   "cell_type": "code",
   "execution_count": 15,
   "metadata": {},
   "outputs": [
    {
     "name": "stdout",
     "output_type": "stream",
     "text": [
      "Given years: 2\n",
      "Given days: 5\n"
     ]
    }
   ],
   "source": [
    "#problem1.py\n",
    "num_y = int(input(\"Given years: \"))\n",
    "num_d = int(input(\"Given days: \"))   \n",
    "              "
   ]
  },
  {
   "cell_type": "code",
   "execution_count": 17,
   "metadata": {},
   "outputs": [
    {
     "name": "stdout",
     "output_type": "stream",
     "text": [
      "Current date:  2020-03-30 23:45:23.330545\n",
      "Given years:  3\n",
      "Given days:  10\n",
      "Final date;  2021-03-30 23:45:23.330545\n"
     ]
    }
   ],
   "source": [
    "#problem1.py\n",
    "import datetime\n",
    "dt = datetime.datetime.today()\n",
    "print(\"Current date: \", dt)\n",
    "timedelta = datetime.timedelta(days = 365)\n",
    "print(\"Given years: \", num_y)\n",
    "print(\"Given days: \", num_d)\n",
    "print(\"Final date; \", dt + timedelta)"
   ]
  },
  {
   "cell_type": "code",
   "execution_count": 37,
   "metadata": {},
   "outputs": [
    {
     "name": "stdout",
     "output_type": "stream",
     "text": [
      "The old string: abcdefghi\n",
      "Middle 3 characters:  def\n",
      "The new string:  abcDEFghi\n"
     ]
    }
   ],
   "source": [
    "#problem2.py\n",
    "text = input(\"The old string: \")\n",
    "print(\"Middle 3 characters: \", text[3:6])\n",
    "print(\"The new string: \", text[:3] + text[3:6].upper() + text[6:])"
   ]
  },
  {
   "cell_type": "code",
   "execution_count": 2,
   "metadata": {},
   "outputs": [
    {
     "name": "stdout",
     "output_type": "stream",
     "text": [
      "The given text: This text is a sample text\n",
      "First word: text\n",
      "Second word: image\n",
      "Output string:  This image is a sample image\n"
     ]
    }
   ],
   "source": [
    "#problem3.py\n",
    "text = input(\"The given text: \")\n",
    "first_word = input(\"First word: \")\n",
    "second_word = input(\"Second word: \")\n",
    "print(\"Output string: \", text.replace(first_word, second_word))"
   ]
  },
  {
   "cell_type": "code",
   "execution_count": 36,
   "metadata": {},
   "outputs": [
    {
     "name": "stdout",
     "output_type": "stream",
     "text": [
      "The given string: Welcome to USA. usa is awesome, isn’t it?\n",
      "The USA/usa count is:  2\n",
      "The new string:  Welcome to USA. Armenia is awesome, isn’t it?\n"
     ]
    }
   ],
   "source": [
    "#problem4.py\n",
    "text = input(\"The given string: \")\n",
    "text.lower()\n",
    "print(\"The USA/usa count is: \", text.lower().count('usa'))\n",
    "print(\"The new string: \", text.replace('usa', 'Armenia'))\n"
   ]
  },
  {
   "cell_type": "code",
   "execution_count": 27,
   "metadata": {},
   "outputs": [
    {
     "name": "stdout",
     "output_type": "stream",
     "text": [
      "year:  1992\n",
      "month:  12\n",
      "day:  9\n",
      "weekday of my birthday:  2\n",
      "how many days left till my birthday?  -112 days, 0:00:00\n"
     ]
    }
   ],
   "source": [
    "#problem5.py\n",
    "dob = datetime.date(1992, 12, 9)\n",
    "print(\"year: \", dob.year)\n",
    "print(\"month: \", dob.month)\n",
    "print(\"day: \", dob.day)\n",
    "print(\"weekday of my birthday: \", dob.weekday())\n",
    "bday = datetime.date(2019, 12, 9)\n",
    "tday = datetime.date.today()\n",
    "till_day = bday - tday\n",
    "print(\"how many days left till my birthday? \", till_day)"
   ]
  },
  {
   "cell_type": "code",
   "execution_count": 52,
   "metadata": {},
   "outputs": [
    {
     "name": "stdout",
     "output_type": "stream",
     "text": [
      "      May 2017\n",
      "Mo Tu We Th Fr Sa Su\n",
      " 1  2  3  4  5  6  7\n",
      " 8  9 10 11 12 13 14\n",
      "15 16 17 18 19 20 21\n",
      "22 23 24 25 26 27 28\n",
      "29 30 31\n",
      "\n"
     ]
    }
   ],
   "source": [
    "cal = calendar.month(2017, 5)\n",
    "print(cal)\n",
    "            "
   ]
  },
  {
   "cell_type": "code",
   "execution_count": 68,
   "metadata": {},
   "outputs": [
    {
     "name": "stdout",
     "output_type": "stream",
     "text": [
      "2020-03-26 15:52:05.445652\n",
      "yesterday:  2020-03-25 15:52:05.445652\n",
      "yesterday + 2 days:  2020-03-27 15:52:05.445652\n",
      "yesterday - 3 days:  2020-03-22 15:52:05.445652\n"
     ]
    }
   ],
   "source": [
    "tday = datetime.datetime.now()\n",
    "print(tday)\n",
    "tdelta = datetime.timedelta(days = 1)\n",
    "print(\"yesterday: \", tday - tdelta)\n",
    "print(\"yesterday + 2 days: \", tday + tdelta)\n",
    "tdelta1 = datetime.timedelta(days = 4)\n",
    "print(\"yesterday - 3 days: \", tday - tdelta1) "
   ]
  },
  {
   "cell_type": "code",
   "execution_count": null,
   "metadata": {},
   "outputs": [],
   "source": []
  }
 ],
 "metadata": {
  "kernelspec": {
   "display_name": "Python 3",
   "language": "python",
   "name": "python3"
  },
  "language_info": {
   "codemirror_mode": {
    "name": "ipython",
    "version": 3
   },
   "file_extension": ".py",
   "mimetype": "text/x-python",
   "name": "python",
   "nbconvert_exporter": "python",
   "pygments_lexer": "ipython3",
   "version": "3.7.6"
  }
 },
 "nbformat": 4,
 "nbformat_minor": 4
}
