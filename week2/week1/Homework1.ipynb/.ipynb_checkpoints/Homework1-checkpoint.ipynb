{
 "cells": [
  {
   "cell_type": "code",
   "execution_count": null,
   "metadata": {},
   "outputs": [],
   "source": []
  },
  {
   "cell_type": "code",
   "execution_count": null,
   "metadata": {},
   "outputs": [],
   "source": [
    "flour = '175'\n",
    "butter = '175'\n",
    "sugar = '100g'\n",
    "eggs = '2'\n",
    "cocoa_powder = '1ts'\n",
    "baking_powder = '0.5'\n",
    "print(\"flour -\" , flour)\n",
    "print(\"butter -\" , butter)\n",
    "print(\"sugar -\" , sugar)\n",
    "print(\"eggs -\" , eggs)\n",
    "print(\"cocoa_powder -\" , cocoa_powder)\n",
    "print(\"baking_powder -\" , baking_powder)"
   ]
  },
  {
   "cell_type": "code",
   "execution_count": null,
   "metadata": {},
   "outputs": [],
   "source": []
  }
 ],
 "metadata": {},
 "nbformat": 4,
 "nbformat_minor": 4
}