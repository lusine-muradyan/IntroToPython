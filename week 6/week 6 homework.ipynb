{
 "cells": [
  {
   "cell_type": "code",
   "execution_count": 1,
   "metadata": {},
   "outputs": [],
   "source": [
    "# 1"
   ]
  },
  {
   "cell_type": "code",
   "execution_count": 33,
   "metadata": {},
   "outputs": [
    {
     "name": "stdout",
     "output_type": "stream",
     "text": [
      "Welcome dear Ann\n",
      "Bye everyone!\n",
      "My favourite number is 10\n",
      "\n"
     ]
    },
    {
     "data": {
      "text/plain": [
       "'abc'"
      ]
     },
     "execution_count": 33,
     "metadata": {},
     "output_type": "execute_result"
    }
   ],
   "source": [
    "class Person():\n",
    "    def __init__(self, name , last_name , age , gender, student, password):\n",
    "        self.name = name\n",
    "        self.last_name = last_name\n",
    "        self.age = age\n",
    "        self.gender = gender\n",
    "        self.student = student\n",
    "        self.__password = password\n",
    "                \n",
    "    def Greeting(self, second_person):\n",
    "        print(\"Welcome dear %s\" %(second_person.name))        \n",
    "    def Goodbye(self):\n",
    "        print(\"Bye everyone!\")        \n",
    "    def Favourite_num(self, num1):\n",
    "        self.num1 = num1\n",
    "        print(\"My favourite number is %d\" %(num1))    \n",
    "    def Read_file(self, filename):\n",
    "        f = open(filename + \".txt\")\n",
    "        print(f.read())\n",
    "    def get_code(self):\n",
    "        return self.__password\n",
    "        self.__password \n",
    "    def set_code(self,new):\n",
    "        self.__password = new   \n",
    "        \n",
    "    \n",
    "    \n",
    "person = Person(\"Lus\", \"Muradyan\", 27, \"female\", True, False)\n",
    "second_person = Person(\"Ann\", \"Grigiryan\", 27, \"female\", True, False)\n",
    "person.Greeting(second_person)\n",
    "person.Goodbye()\n",
    "person.Favourite_num(10)\n",
    "person.Read_file(\"New_File\")\n",
    "person.set_code(\"abc\")\n",
    "person.get_code()\n",
    "        \n",
    "        \n",
    "        \n",
    "    "
   ]
  },
  {
   "cell_type": "code",
   "execution_count": 11,
   "metadata": {},
   "outputs": [],
   "source": [
    "# 2"
   ]
  },
  {
   "cell_type": "code",
   "execution_count": 17,
   "metadata": {},
   "outputs": [
    {
     "name": "stdout",
     "output_type": "stream",
     "text": [
      "8\n",
      "-2\n",
      "15\n",
      "0.6\n"
     ]
    }
   ],
   "source": [
    "class Calculation():\n",
    "    def __init__(self, x, y):\n",
    "        self.x = x\n",
    "        self.y = y\n",
    "    def addition(self):\n",
    "        print(self.x + self.y)\n",
    "    def subtraction(self):\n",
    "        print(self.x - self.y)\n",
    "        \n",
    "class MyCalculation(Calculation):\n",
    "    def __init__(self, x, y):\n",
    "        Calculation.__init__(self, x, y)       \n",
    "    def multiplication(self):\n",
    "        print(self.x * self.y)\n",
    "    def division(self):\n",
    "        print(self.x / self.y)\n",
    "        \n",
    "x = MyCalculation(3,5)\n",
    "x.addition()\n",
    "x.subtraction()\n",
    "x.multiplication()\n",
    "x.division()"
   ]
  },
  {
   "cell_type": "code",
   "execution_count": 18,
   "metadata": {},
   "outputs": [],
   "source": [
    "# 3"
   ]
  },
  {
   "cell_type": "code",
   "execution_count": 23,
   "metadata": {},
   "outputs": [
    {
     "name": "stdout",
     "output_type": "stream",
     "text": [
      "The current time is 13.03.2013\n",
      "The current date is 12 PM\n"
     ]
    }
   ],
   "source": [
    "class My_Time:\n",
    "    def __init__(self, t):\n",
    "        self.t = t\n",
    "    def printTime(self):\n",
    "        print(\"The current time is %s\" %(self.t))\n",
    "        \n",
    "class My_Date:\n",
    "    def __init__(self, d):\n",
    "        self.d = d\n",
    "    def printDate(self):\n",
    "        print(\"The current date is %s\" %(self.d))\n",
    "\n",
    "class Date_Time(My_Time, My_Date):\n",
    "    def __init__(self, d, t):\n",
    "        My_Date.__init__(self, d)\n",
    "        My_Time.__init__(self, t)\n",
    "        \n",
    "dtime = Date_Time(\"12 PM\", \"13.03.2013\")\n",
    "dtime.printTime()\n",
    "dtime.printDate()\n",
    "    \n",
    "    "
   ]
  },
  {
   "cell_type": "code",
   "execution_count": 24,
   "metadata": {},
   "outputs": [],
   "source": [
    "# 4"
   ]
  },
  {
   "cell_type": "code",
   "execution_count": 29,
   "metadata": {},
   "outputs": [
    {
     "name": "stdout",
     "output_type": "stream",
     "text": [
      "The model of the vehicle is BMW\n",
      "The color of the vehicle is red\n"
     ]
    }
   ],
   "source": [
    "class Model:\n",
    "    def __init__(self, name):\n",
    "        self.name = name\n",
    "    def printModel(self):\n",
    "        print(\"The model of the vehicle is %s\" %(self.name))\n",
    "class Color:\n",
    "    def __init__(self, color):\n",
    "        self.color = color\n",
    "    def printColor(self):\n",
    "        print(\"The color of the vehicle is %s\" %(self.color))\n",
    "class Car(Model, Color):\n",
    "    def __init__(self, name, color):\n",
    "        Model.__init__(self, name)\n",
    "        Color.__init__(self, color)\n",
    "    \n",
    "car = Car(\"BMW\", \"red\")\n",
    "car.printModel()\n",
    "car.printColor()\n"
   ]
  },
  {
   "cell_type": "code",
   "execution_count": null,
   "metadata": {},
   "outputs": [],
   "source": []
  }
 ],
 "metadata": {
  "kernelspec": {
   "display_name": "Python 3",
   "language": "python",
   "name": "python3"
  },
  "language_info": {
   "codemirror_mode": {
    "name": "ipython",
    "version": 3
   },
   "file_extension": ".py",
   "mimetype": "text/x-python",
   "name": "python",
   "nbconvert_exporter": "python",
   "pygments_lexer": "ipython3",
   "version": "3.7.6"
  }
 },
 "nbformat": 4,
 "nbformat_minor": 4
}
