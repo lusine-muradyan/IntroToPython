{
 "cells": [
  {
   "cell_type": "markdown",
   "metadata": {},
   "source": [
    "# Practical"
   ]
  },
  {
   "cell_type": "code",
   "execution_count": 1,
   "metadata": {},
   "outputs": [],
   "source": [
    "#P 1"
   ]
  },
  {
   "cell_type": "code",
   "execution_count": 6,
   "metadata": {},
   "outputs": [],
   "source": [
    "class Circle:\n",
    "    \n",
    "    def __init__(self, radius, color):\n",
    "        self.rad = radius\n",
    "        self.col = color\n",
    "    \n",
    "    def getDesc(self):\n",
    "        print('A ', self.col, 'circle with radius ', self.rad)\n",
    "        \n",
    "a = Circle(10, \"white\")\n",
    "    \n",
    "        "
   ]
  },
  {
   "cell_type": "code",
   "execution_count": 7,
   "metadata": {},
   "outputs": [
    {
     "name": "stdout",
     "output_type": "stream",
     "text": [
      "A  white circle with radius  10\n"
     ]
    }
   ],
   "source": [
    "a.getDesc()"
   ]
  },
  {
   "cell_type": "code",
   "execution_count": 8,
   "metadata": {},
   "outputs": [],
   "source": [
    "#P 2"
   ]
  },
  {
   "cell_type": "code",
   "execution_count": 11,
   "metadata": {},
   "outputs": [
    {
     "name": "stdout",
     "output_type": "stream",
     "text": [
      "ABCD\n"
     ]
    }
   ],
   "source": [
    "class String:\n",
    "    def __init__(self, my_str):\n",
    "        self.my_str = my_str\n",
    "        \n",
    "    def get_String(self):\n",
    "        return self.my_str\n",
    "            \n",
    "    def print_String(self):\n",
    "        print(self.my_str.upper())\n",
    "    \n",
    "x = String(\"abcd\")\n",
    "x.print_String()\n",
    "#x.get_String()\n"
   ]
  },
  {
   "cell_type": "code",
   "execution_count": 12,
   "metadata": {},
   "outputs": [],
   "source": [
    "#P 3"
   ]
  },
  {
   "cell_type": "code",
   "execution_count": 14,
   "metadata": {},
   "outputs": [],
   "source": [
    "class Employee:\n",
    "    \n",
    "    def __init__(self, name, last_name, monthly_salary):\n",
    "        self.name = name\n",
    "        self.last_name = last_name\n",
    "        self.__monthly_salary = monthly_salary\n",
    "        \n",
    "    def getFullName(self):\n",
    "        return (self.name, self.last_name)\n",
    "    \n",
    "    def annualSalary(self):\n",
    "        if self.__monthly_salary * 12 > 100:\n",
    "            return \"High\"\n",
    "        else:\n",
    "            return \"Low\"\n",
    "        \n",
    "emp1 = Employee(\"Kate\", \"Smith\", 50)\n"
   ]
  },
  {
   "cell_type": "code",
   "execution_count": 23,
   "metadata": {},
   "outputs": [
    {
     "data": {
      "text/plain": [
       "(('Kate', 'Smith'), 'High')"
      ]
     },
     "execution_count": 23,
     "metadata": {},
     "output_type": "execute_result"
    }
   ],
   "source": [
    "emp1. getFullName(), emp1.annualSalary()\n"
   ]
  },
  {
   "cell_type": "code",
   "execution_count": 24,
   "metadata": {},
   "outputs": [],
   "source": [
    "#P 4"
   ]
  },
  {
   "cell_type": "code",
   "execution_count": 25,
   "metadata": {},
   "outputs": [],
   "source": [
    "class Car:\n",
    "    \n",
    "    def __init__(self, model, color, max_speed):\n",
    "        self.model = model\n",
    "        self.color = color\n",
    "        self.max_speed = max_speed\n",
    "        \n",
    "    \n",
    "    def compareCar(self, car2):\n",
    "        if self.max_speed > car2.max_speed:\n",
    "            return \"car1 is better than car2\"\n",
    "        else:\n",
    "            print(\"car2 is better than car1\")\n",
    "    \n",
    "     "
   ]
  },
  {
   "cell_type": "code",
   "execution_count": 27,
   "metadata": {},
   "outputs": [
    {
     "name": "stdout",
     "output_type": "stream",
     "text": [
      "car2 is better than car1\n"
     ]
    }
   ],
   "source": [
    "car1 = Car(\"Toyota\", \"white\", 200)\n",
    "car2 = Car(\"BMW\", \"black\", 220)\n",
    "car1.compareCar(car2)"
   ]
  },
  {
   "cell_type": "code",
   "execution_count": 28,
   "metadata": {},
   "outputs": [],
   "source": [
    "#P 5"
   ]
  },
  {
   "cell_type": "code",
   "execution_count": 48,
   "metadata": {},
   "outputs": [],
   "source": [
    "class Police_car:\n",
    "    tax_value = 0.2\n",
    "    \n",
    "    def __init__(self, owner, price, pass_code):\n",
    "        self.owner = owner\n",
    "        self.price = price\n",
    "        self.__pass_code = pass_code\n",
    "        \n",
    "    def set_code (self, pass_code):\n",
    "        self.__pass_code = pass_code\n",
    "        \n",
    "    def get_code (self):\n",
    "        return self.__pass_code\n",
    "        \n",
    "        \n",
    "    def tax(self):\n",
    "        return self.tax_value * self.price\n",
    "    \n",
    "    def greating(self):\n",
    "        if self.__pass_code == \"admin\":\n",
    "            print(\"Welcome to your car, %s \" %self.owner)\n",
    "        \n",
    "        "
   ]
  },
  {
   "cell_type": "code",
   "execution_count": 49,
   "metadata": {},
   "outputs": [
    {
     "name": "stdout",
     "output_type": "stream",
     "text": [
      "20.0\n",
      "Welcome to your car, John \n"
     ]
    }
   ],
   "source": [
    "car = Police_car(\"John\", 100, \"admin\")\n",
    "print(car.tax())\n",
    "car.greating()\n"
   ]
  },
  {
   "cell_type": "code",
   "execution_count": 38,
   "metadata": {},
   "outputs": [],
   "source": [
    "#P 6"
   ]
  },
  {
   "cell_type": "code",
   "execution_count": 56,
   "metadata": {},
   "outputs": [],
   "source": [
    "class Animal:\n",
    "    def __init__(self, name):\n",
    "        self.name = name\n",
    "        \n",
    "    def move(self):\n",
    "        print(\"I can move\")\n",
    "        "
   ]
  },
  {
   "cell_type": "code",
   "execution_count": 57,
   "metadata": {},
   "outputs": [
    {
     "name": "stdout",
     "output_type": "stream",
     "text": [
      "I can run really fast\n"
     ]
    }
   ],
   "source": [
    "class Dog(Animal):\n",
    "    \n",
    "    def __init__(self):\n",
    "        self.self = self\n",
    "        \n",
    "    def move(self):\n",
    "        print(\"I can run really fast\")\n",
    "    \n",
    "a = Dog()\n",
    "a.move()\n"
   ]
  },
  {
   "cell_type": "code",
   "execution_count": 55,
   "metadata": {},
   "outputs": [],
   "source": [
    "#P 7"
   ]
  },
  {
   "cell_type": "code",
   "execution_count": null,
   "metadata": {},
   "outputs": [],
   "source": [
    "class Animal:"
   ]
  }
 ],
 "metadata": {
  "kernelspec": {
   "display_name": "Python 3",
   "language": "python",
   "name": "python3"
  },
  "language_info": {
   "codemirror_mode": {
    "name": "ipython",
    "version": 3
   },
   "file_extension": ".py",
   "mimetype": "text/x-python",
   "name": "python",
   "nbconvert_exporter": "python",
   "pygments_lexer": "ipython3",
   "version": "3.7.6"
  }
 },
 "nbformat": 4,
 "nbformat_minor": 4
}
